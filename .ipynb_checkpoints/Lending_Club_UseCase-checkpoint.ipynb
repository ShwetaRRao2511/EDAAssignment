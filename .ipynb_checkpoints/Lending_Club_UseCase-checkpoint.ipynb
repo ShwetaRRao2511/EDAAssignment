{
 "cells": [
  {
   "cell_type": "markdown",
   "id": "2d662d26",
   "metadata": {},
   "source": [
    "# <b><u>Lending Club Use-Case</u></b>"
   ]
  },
  {
   "cell_type": "markdown",
   "id": "fda4b933",
   "metadata": {},
   "source": [
    "## <u> Problem Statement</u>"
   ]
  },
  {
   "cell_type": "markdown",
   "id": "c82f33cc",
   "metadata": {},
   "source": [
    "<p><u>Introduction:</u>You work for a consumer finance company which specialises in lending various types of loans to urban customers. When the company receives a loan application, the company has to make a decision for loan approval based on the applicant’s profile.\n",
    "    This company is the largest online loan marketplace, facilitating personal loans, business loans, and financing of medical procedures.\n",
    "    \n",
    "</p>\n"
   ]
  },
  {
   "cell_type": "markdown",
   "id": "34923f60",
   "metadata": {},
   "source": [
    "Lending loans to ‘risky’ applicants is the largest source of financial loss (called credit loss). The credit loss is the amount of money lost by the lender when the borrower refuses to pay or runs away with the money owed. In other words, borrowers who default cause the largest amount of loss to the lenders. In this case, the customers labelled as 'charged-off' are the 'defaulters'.\n",
    "    If one is able to identify these risky loan applicants, then such loans can be reduced thereby cutting down the amount of credit loss. Identification of such applicants using EDA is the aim of this case study."
   ]
  },
  {
   "cell_type": "markdown",
   "id": "4574c979",
   "metadata": {},
   "source": [
    "##### Use-Case Presenters:\n",
    "    1. Shweta Rao: Group Facilator\n",
    "    2. Pragadeesh S: Group Memeber"
   ]
  },
  {
   "cell_type": "code",
   "execution_count": 1,
   "id": "1d400817",
   "metadata": {},
   "outputs": [],
   "source": [
    "#imports variable\n",
    "import pandas as pd\n",
    "import numpy as nm\n",
    "import matplotlib.pyplot as plt\n",
    "import seaborn as sns\n",
    "import warnings\n",
    "warnings.filterwarnings('ignore')"
   ]
  },
  {
   "cell_type": "code",
   "execution_count": 2,
   "id": "d3a60d58",
   "metadata": {},
   "outputs": [],
   "source": [
    "#reading the csv\n",
    "data_val = pd.read_csv('/Users/sameerhegde/Documents/PG - Material/Assignment/Solution/loan.csv',low_memory=False)"
   ]
  },
  {
   "cell_type": "code",
   "execution_count": 3,
   "id": "ae2fbdde",
   "metadata": {},
   "outputs": [
    {
     "data": {
      "text/html": [
       "<div>\n",
       "<style scoped>\n",
       "    .dataframe tbody tr th:only-of-type {\n",
       "        vertical-align: middle;\n",
       "    }\n",
       "\n",
       "    .dataframe tbody tr th {\n",
       "        vertical-align: top;\n",
       "    }\n",
       "\n",
       "    .dataframe thead th {\n",
       "        text-align: right;\n",
       "    }\n",
       "</style>\n",
       "<table border=\"1\" class=\"dataframe\">\n",
       "  <thead>\n",
       "    <tr style=\"text-align: right;\">\n",
       "      <th></th>\n",
       "      <th>id</th>\n",
       "      <th>member_id</th>\n",
       "      <th>loan_amnt</th>\n",
       "      <th>funded_amnt</th>\n",
       "      <th>funded_amnt_inv</th>\n",
       "      <th>term</th>\n",
       "      <th>int_rate</th>\n",
       "      <th>installment</th>\n",
       "      <th>grade</th>\n",
       "      <th>sub_grade</th>\n",
       "      <th>...</th>\n",
       "      <th>num_tl_90g_dpd_24m</th>\n",
       "      <th>num_tl_op_past_12m</th>\n",
       "      <th>pct_tl_nvr_dlq</th>\n",
       "      <th>percent_bc_gt_75</th>\n",
       "      <th>pub_rec_bankruptcies</th>\n",
       "      <th>tax_liens</th>\n",
       "      <th>tot_hi_cred_lim</th>\n",
       "      <th>total_bal_ex_mort</th>\n",
       "      <th>total_bc_limit</th>\n",
       "      <th>total_il_high_credit_limit</th>\n",
       "    </tr>\n",
       "  </thead>\n",
       "  <tbody>\n",
       "    <tr>\n",
       "      <th>0</th>\n",
       "      <td>1077501</td>\n",
       "      <td>1296599</td>\n",
       "      <td>5000</td>\n",
       "      <td>5000</td>\n",
       "      <td>4975.0</td>\n",
       "      <td>36 months</td>\n",
       "      <td>10.65%</td>\n",
       "      <td>162.87</td>\n",
       "      <td>B</td>\n",
       "      <td>B2</td>\n",
       "      <td>...</td>\n",
       "      <td>NaN</td>\n",
       "      <td>NaN</td>\n",
       "      <td>NaN</td>\n",
       "      <td>NaN</td>\n",
       "      <td>0.0</td>\n",
       "      <td>0.0</td>\n",
       "      <td>NaN</td>\n",
       "      <td>NaN</td>\n",
       "      <td>NaN</td>\n",
       "      <td>NaN</td>\n",
       "    </tr>\n",
       "    <tr>\n",
       "      <th>1</th>\n",
       "      <td>1077430</td>\n",
       "      <td>1314167</td>\n",
       "      <td>2500</td>\n",
       "      <td>2500</td>\n",
       "      <td>2500.0</td>\n",
       "      <td>60 months</td>\n",
       "      <td>15.27%</td>\n",
       "      <td>59.83</td>\n",
       "      <td>C</td>\n",
       "      <td>C4</td>\n",
       "      <td>...</td>\n",
       "      <td>NaN</td>\n",
       "      <td>NaN</td>\n",
       "      <td>NaN</td>\n",
       "      <td>NaN</td>\n",
       "      <td>0.0</td>\n",
       "      <td>0.0</td>\n",
       "      <td>NaN</td>\n",
       "      <td>NaN</td>\n",
       "      <td>NaN</td>\n",
       "      <td>NaN</td>\n",
       "    </tr>\n",
       "    <tr>\n",
       "      <th>2</th>\n",
       "      <td>1077175</td>\n",
       "      <td>1313524</td>\n",
       "      <td>2400</td>\n",
       "      <td>2400</td>\n",
       "      <td>2400.0</td>\n",
       "      <td>36 months</td>\n",
       "      <td>15.96%</td>\n",
       "      <td>84.33</td>\n",
       "      <td>C</td>\n",
       "      <td>C5</td>\n",
       "      <td>...</td>\n",
       "      <td>NaN</td>\n",
       "      <td>NaN</td>\n",
       "      <td>NaN</td>\n",
       "      <td>NaN</td>\n",
       "      <td>0.0</td>\n",
       "      <td>0.0</td>\n",
       "      <td>NaN</td>\n",
       "      <td>NaN</td>\n",
       "      <td>NaN</td>\n",
       "      <td>NaN</td>\n",
       "    </tr>\n",
       "    <tr>\n",
       "      <th>3</th>\n",
       "      <td>1076863</td>\n",
       "      <td>1277178</td>\n",
       "      <td>10000</td>\n",
       "      <td>10000</td>\n",
       "      <td>10000.0</td>\n",
       "      <td>36 months</td>\n",
       "      <td>13.49%</td>\n",
       "      <td>339.31</td>\n",
       "      <td>C</td>\n",
       "      <td>C1</td>\n",
       "      <td>...</td>\n",
       "      <td>NaN</td>\n",
       "      <td>NaN</td>\n",
       "      <td>NaN</td>\n",
       "      <td>NaN</td>\n",
       "      <td>0.0</td>\n",
       "      <td>0.0</td>\n",
       "      <td>NaN</td>\n",
       "      <td>NaN</td>\n",
       "      <td>NaN</td>\n",
       "      <td>NaN</td>\n",
       "    </tr>\n",
       "    <tr>\n",
       "      <th>4</th>\n",
       "      <td>1075358</td>\n",
       "      <td>1311748</td>\n",
       "      <td>3000</td>\n",
       "      <td>3000</td>\n",
       "      <td>3000.0</td>\n",
       "      <td>60 months</td>\n",
       "      <td>12.69%</td>\n",
       "      <td>67.79</td>\n",
       "      <td>B</td>\n",
       "      <td>B5</td>\n",
       "      <td>...</td>\n",
       "      <td>NaN</td>\n",
       "      <td>NaN</td>\n",
       "      <td>NaN</td>\n",
       "      <td>NaN</td>\n",
       "      <td>0.0</td>\n",
       "      <td>0.0</td>\n",
       "      <td>NaN</td>\n",
       "      <td>NaN</td>\n",
       "      <td>NaN</td>\n",
       "      <td>NaN</td>\n",
       "    </tr>\n",
       "    <tr>\n",
       "      <th>...</th>\n",
       "      <td>...</td>\n",
       "      <td>...</td>\n",
       "      <td>...</td>\n",
       "      <td>...</td>\n",
       "      <td>...</td>\n",
       "      <td>...</td>\n",
       "      <td>...</td>\n",
       "      <td>...</td>\n",
       "      <td>...</td>\n",
       "      <td>...</td>\n",
       "      <td>...</td>\n",
       "      <td>...</td>\n",
       "      <td>...</td>\n",
       "      <td>...</td>\n",
       "      <td>...</td>\n",
       "      <td>...</td>\n",
       "      <td>...</td>\n",
       "      <td>...</td>\n",
       "      <td>...</td>\n",
       "      <td>...</td>\n",
       "      <td>...</td>\n",
       "    </tr>\n",
       "    <tr>\n",
       "      <th>39712</th>\n",
       "      <td>92187</td>\n",
       "      <td>92174</td>\n",
       "      <td>2500</td>\n",
       "      <td>2500</td>\n",
       "      <td>1075.0</td>\n",
       "      <td>36 months</td>\n",
       "      <td>8.07%</td>\n",
       "      <td>78.42</td>\n",
       "      <td>A</td>\n",
       "      <td>A4</td>\n",
       "      <td>...</td>\n",
       "      <td>NaN</td>\n",
       "      <td>NaN</td>\n",
       "      <td>NaN</td>\n",
       "      <td>NaN</td>\n",
       "      <td>NaN</td>\n",
       "      <td>NaN</td>\n",
       "      <td>NaN</td>\n",
       "      <td>NaN</td>\n",
       "      <td>NaN</td>\n",
       "      <td>NaN</td>\n",
       "    </tr>\n",
       "    <tr>\n",
       "      <th>39713</th>\n",
       "      <td>90665</td>\n",
       "      <td>90607</td>\n",
       "      <td>8500</td>\n",
       "      <td>8500</td>\n",
       "      <td>875.0</td>\n",
       "      <td>36 months</td>\n",
       "      <td>10.28%</td>\n",
       "      <td>275.38</td>\n",
       "      <td>C</td>\n",
       "      <td>C1</td>\n",
       "      <td>...</td>\n",
       "      <td>NaN</td>\n",
       "      <td>NaN</td>\n",
       "      <td>NaN</td>\n",
       "      <td>NaN</td>\n",
       "      <td>NaN</td>\n",
       "      <td>NaN</td>\n",
       "      <td>NaN</td>\n",
       "      <td>NaN</td>\n",
       "      <td>NaN</td>\n",
       "      <td>NaN</td>\n",
       "    </tr>\n",
       "    <tr>\n",
       "      <th>39714</th>\n",
       "      <td>90395</td>\n",
       "      <td>90390</td>\n",
       "      <td>5000</td>\n",
       "      <td>5000</td>\n",
       "      <td>1325.0</td>\n",
       "      <td>36 months</td>\n",
       "      <td>8.07%</td>\n",
       "      <td>156.84</td>\n",
       "      <td>A</td>\n",
       "      <td>A4</td>\n",
       "      <td>...</td>\n",
       "      <td>NaN</td>\n",
       "      <td>NaN</td>\n",
       "      <td>NaN</td>\n",
       "      <td>NaN</td>\n",
       "      <td>NaN</td>\n",
       "      <td>NaN</td>\n",
       "      <td>NaN</td>\n",
       "      <td>NaN</td>\n",
       "      <td>NaN</td>\n",
       "      <td>NaN</td>\n",
       "    </tr>\n",
       "    <tr>\n",
       "      <th>39715</th>\n",
       "      <td>90376</td>\n",
       "      <td>89243</td>\n",
       "      <td>5000</td>\n",
       "      <td>5000</td>\n",
       "      <td>650.0</td>\n",
       "      <td>36 months</td>\n",
       "      <td>7.43%</td>\n",
       "      <td>155.38</td>\n",
       "      <td>A</td>\n",
       "      <td>A2</td>\n",
       "      <td>...</td>\n",
       "      <td>NaN</td>\n",
       "      <td>NaN</td>\n",
       "      <td>NaN</td>\n",
       "      <td>NaN</td>\n",
       "      <td>NaN</td>\n",
       "      <td>NaN</td>\n",
       "      <td>NaN</td>\n",
       "      <td>NaN</td>\n",
       "      <td>NaN</td>\n",
       "      <td>NaN</td>\n",
       "    </tr>\n",
       "    <tr>\n",
       "      <th>39716</th>\n",
       "      <td>87023</td>\n",
       "      <td>86999</td>\n",
       "      <td>7500</td>\n",
       "      <td>7500</td>\n",
       "      <td>800.0</td>\n",
       "      <td>36 months</td>\n",
       "      <td>13.75%</td>\n",
       "      <td>255.43</td>\n",
       "      <td>E</td>\n",
       "      <td>E2</td>\n",
       "      <td>...</td>\n",
       "      <td>NaN</td>\n",
       "      <td>NaN</td>\n",
       "      <td>NaN</td>\n",
       "      <td>NaN</td>\n",
       "      <td>NaN</td>\n",
       "      <td>NaN</td>\n",
       "      <td>NaN</td>\n",
       "      <td>NaN</td>\n",
       "      <td>NaN</td>\n",
       "      <td>NaN</td>\n",
       "    </tr>\n",
       "  </tbody>\n",
       "</table>\n",
       "<p>39717 rows × 111 columns</p>\n",
       "</div>"
      ],
      "text/plain": [
       "            id  member_id  loan_amnt  funded_amnt  funded_amnt_inv  \\\n",
       "0      1077501    1296599       5000         5000           4975.0   \n",
       "1      1077430    1314167       2500         2500           2500.0   \n",
       "2      1077175    1313524       2400         2400           2400.0   \n",
       "3      1076863    1277178      10000        10000          10000.0   \n",
       "4      1075358    1311748       3000         3000           3000.0   \n",
       "...        ...        ...        ...          ...              ...   \n",
       "39712    92187      92174       2500         2500           1075.0   \n",
       "39713    90665      90607       8500         8500            875.0   \n",
       "39714    90395      90390       5000         5000           1325.0   \n",
       "39715    90376      89243       5000         5000            650.0   \n",
       "39716    87023      86999       7500         7500            800.0   \n",
       "\n",
       "             term int_rate  installment grade sub_grade  ...  \\\n",
       "0       36 months   10.65%       162.87     B        B2  ...   \n",
       "1       60 months   15.27%        59.83     C        C4  ...   \n",
       "2       36 months   15.96%        84.33     C        C5  ...   \n",
       "3       36 months   13.49%       339.31     C        C1  ...   \n",
       "4       60 months   12.69%        67.79     B        B5  ...   \n",
       "...           ...      ...          ...   ...       ...  ...   \n",
       "39712   36 months    8.07%        78.42     A        A4  ...   \n",
       "39713   36 months   10.28%       275.38     C        C1  ...   \n",
       "39714   36 months    8.07%       156.84     A        A4  ...   \n",
       "39715   36 months    7.43%       155.38     A        A2  ...   \n",
       "39716   36 months   13.75%       255.43     E        E2  ...   \n",
       "\n",
       "      num_tl_90g_dpd_24m num_tl_op_past_12m pct_tl_nvr_dlq  percent_bc_gt_75  \\\n",
       "0                    NaN                NaN            NaN               NaN   \n",
       "1                    NaN                NaN            NaN               NaN   \n",
       "2                    NaN                NaN            NaN               NaN   \n",
       "3                    NaN                NaN            NaN               NaN   \n",
       "4                    NaN                NaN            NaN               NaN   \n",
       "...                  ...                ...            ...               ...   \n",
       "39712                NaN                NaN            NaN               NaN   \n",
       "39713                NaN                NaN            NaN               NaN   \n",
       "39714                NaN                NaN            NaN               NaN   \n",
       "39715                NaN                NaN            NaN               NaN   \n",
       "39716                NaN                NaN            NaN               NaN   \n",
       "\n",
       "      pub_rec_bankruptcies tax_liens tot_hi_cred_lim total_bal_ex_mort  \\\n",
       "0                      0.0       0.0             NaN               NaN   \n",
       "1                      0.0       0.0             NaN               NaN   \n",
       "2                      0.0       0.0             NaN               NaN   \n",
       "3                      0.0       0.0             NaN               NaN   \n",
       "4                      0.0       0.0             NaN               NaN   \n",
       "...                    ...       ...             ...               ...   \n",
       "39712                  NaN       NaN             NaN               NaN   \n",
       "39713                  NaN       NaN             NaN               NaN   \n",
       "39714                  NaN       NaN             NaN               NaN   \n",
       "39715                  NaN       NaN             NaN               NaN   \n",
       "39716                  NaN       NaN             NaN               NaN   \n",
       "\n",
       "      total_bc_limit total_il_high_credit_limit  \n",
       "0                NaN                        NaN  \n",
       "1                NaN                        NaN  \n",
       "2                NaN                        NaN  \n",
       "3                NaN                        NaN  \n",
       "4                NaN                        NaN  \n",
       "...              ...                        ...  \n",
       "39712            NaN                        NaN  \n",
       "39713            NaN                        NaN  \n",
       "39714            NaN                        NaN  \n",
       "39715            NaN                        NaN  \n",
       "39716            NaN                        NaN  \n",
       "\n",
       "[39717 rows x 111 columns]"
      ]
     },
     "execution_count": 3,
     "metadata": {},
     "output_type": "execute_result"
    }
   ],
   "source": [
    "data_val"
   ]
  },
  {
   "cell_type": "code",
   "execution_count": 4,
   "id": "3734e9a8",
   "metadata": {},
   "outputs": [],
   "source": [
    "load_dataframe = pd.DataFrame(data_val)"
   ]
  },
  {
   "cell_type": "code",
   "execution_count": 5,
   "id": "704ea38c",
   "metadata": {},
   "outputs": [
    {
     "name": "stdout",
     "output_type": "stream",
     "text": [
      "            id  member_id  loan_amnt  funded_amnt  funded_amnt_inv  \\\n",
      "0      1077501    1296599       5000         5000           4975.0   \n",
      "1      1077430    1314167       2500         2500           2500.0   \n",
      "2      1077175    1313524       2400         2400           2400.0   \n",
      "3      1076863    1277178      10000        10000          10000.0   \n",
      "4      1075358    1311748       3000         3000           3000.0   \n",
      "...        ...        ...        ...          ...              ...   \n",
      "39712    92187      92174       2500         2500           1075.0   \n",
      "39713    90665      90607       8500         8500            875.0   \n",
      "39714    90395      90390       5000         5000           1325.0   \n",
      "39715    90376      89243       5000         5000            650.0   \n",
      "39716    87023      86999       7500         7500            800.0   \n",
      "\n",
      "             term int_rate  installment grade sub_grade  ...  \\\n",
      "0       36 months   10.65%       162.87     B        B2  ...   \n",
      "1       60 months   15.27%        59.83     C        C4  ...   \n",
      "2       36 months   15.96%        84.33     C        C5  ...   \n",
      "3       36 months   13.49%       339.31     C        C1  ...   \n",
      "4       60 months   12.69%        67.79     B        B5  ...   \n",
      "...           ...      ...          ...   ...       ...  ...   \n",
      "39712   36 months    8.07%        78.42     A        A4  ...   \n",
      "39713   36 months   10.28%       275.38     C        C1  ...   \n",
      "39714   36 months    8.07%       156.84     A        A4  ...   \n",
      "39715   36 months    7.43%       155.38     A        A2  ...   \n",
      "39716   36 months   13.75%       255.43     E        E2  ...   \n",
      "\n",
      "      num_tl_90g_dpd_24m num_tl_op_past_12m pct_tl_nvr_dlq  percent_bc_gt_75  \\\n",
      "0                    NaN                NaN            NaN               NaN   \n",
      "1                    NaN                NaN            NaN               NaN   \n",
      "2                    NaN                NaN            NaN               NaN   \n",
      "3                    NaN                NaN            NaN               NaN   \n",
      "4                    NaN                NaN            NaN               NaN   \n",
      "...                  ...                ...            ...               ...   \n",
      "39712                NaN                NaN            NaN               NaN   \n",
      "39713                NaN                NaN            NaN               NaN   \n",
      "39714                NaN                NaN            NaN               NaN   \n",
      "39715                NaN                NaN            NaN               NaN   \n",
      "39716                NaN                NaN            NaN               NaN   \n",
      "\n",
      "      pub_rec_bankruptcies tax_liens tot_hi_cred_lim total_bal_ex_mort  \\\n",
      "0                      0.0       0.0             NaN               NaN   \n",
      "1                      0.0       0.0             NaN               NaN   \n",
      "2                      0.0       0.0             NaN               NaN   \n",
      "3                      0.0       0.0             NaN               NaN   \n",
      "4                      0.0       0.0             NaN               NaN   \n",
      "...                    ...       ...             ...               ...   \n",
      "39712                  NaN       NaN             NaN               NaN   \n",
      "39713                  NaN       NaN             NaN               NaN   \n",
      "39714                  NaN       NaN             NaN               NaN   \n",
      "39715                  NaN       NaN             NaN               NaN   \n",
      "39716                  NaN       NaN             NaN               NaN   \n",
      "\n",
      "      total_bc_limit total_il_high_credit_limit  \n",
      "0                NaN                        NaN  \n",
      "1                NaN                        NaN  \n",
      "2                NaN                        NaN  \n",
      "3                NaN                        NaN  \n",
      "4                NaN                        NaN  \n",
      "...              ...                        ...  \n",
      "39712            NaN                        NaN  \n",
      "39713            NaN                        NaN  \n",
      "39714            NaN                        NaN  \n",
      "39715            NaN                        NaN  \n",
      "39716            NaN                        NaN  \n",
      "\n",
      "[39717 rows x 111 columns]\n"
     ]
    }
   ],
   "source": [
    "print(load_dataframe)"
   ]
  },
  {
   "cell_type": "code",
   "execution_count": 6,
   "id": "abd931df",
   "metadata": {},
   "outputs": [
    {
     "data": {
      "text/plain": [
       "(39717, 111)"
      ]
     },
     "execution_count": 6,
     "metadata": {},
     "output_type": "execute_result"
    }
   ],
   "source": [
    "# identifying the shape of the dataset\n",
    "data_val.shape"
   ]
  },
  {
   "cell_type": "code",
   "execution_count": 7,
   "id": "56a8420f",
   "metadata": {},
   "outputs": [
    {
     "name": "stdout",
     "output_type": "stream",
     "text": [
      "               LoanStatNew                                        Description\n",
      "0           acc_now_delinq  The number of accounts on which the borrower i...\n",
      "1     acc_open_past_24mths         Number of trades opened in past 24 months.\n",
      "2               addr_state  The state provided by the borrower in the loan...\n",
      "3                 all_util              Balance to credit limit on all trades\n",
      "4               annual_inc  The self-reported annual income provided by th...\n",
      "..                     ...                                                ...\n",
      "112    verification_status  Indicates if income was verified by LC, not ve...\n",
      "113  verified_status_joint  Indicates if the co-borrowers' joint income wa...\n",
      "114               zip_code  The first 3 numbers of the zip code provided b...\n",
      "115                    NaN                                                NaN\n",
      "116                    NaN  * Employer Title replaces Employer Name for al...\n",
      "\n",
      "[117 rows x 2 columns]\n"
     ]
    }
   ],
   "source": [
    "#add row header file just to be relevant with row full name\n",
    "data_excel = pd.read_excel('/Users/sameerhegde/Documents/PG - Material/Assignment/Data_Dictionary.xlsx')\n",
    "print(data_excel)"
   ]
  },
  {
   "cell_type": "code",
   "execution_count": 8,
   "id": "18ea30e6",
   "metadata": {},
   "outputs": [
    {
     "name": "stdout",
     "output_type": "stream",
     "text": [
      "Number of empty rows\n",
      "0\n"
     ]
    }
   ],
   "source": [
    "#finding the null/Empty values --Either to remove the data or analyse to add something instead of null\n",
    "#here rows: 39717\n",
    "#here columns: 111\n",
    "\n",
    "#Row \n",
    "print('Number of empty rows')\n",
    "row_null = data_val.isnull().all(axis=1).sum()\n",
    "print(row_null)"
   ]
  },
  {
   "cell_type": "code",
   "execution_count": 9,
   "id": "aa2723ad",
   "metadata": {},
   "outputs": [
    {
     "name": "stdout",
     "output_type": "stream",
     "text": [
      "Number of empty columns\n",
      "54\n"
     ]
    }
   ],
   "source": [
    "#columns\n",
    "print('Number of empty columns')\n",
    "column_null = data_val.isnull().all(axis=0).sum()\n",
    "print(column_null)"
   ]
  },
  {
   "cell_type": "code",
   "execution_count": 10,
   "id": "ea89befb",
   "metadata": {},
   "outputs": [],
   "source": [
    "#Columns with null value\n",
    "df_null = data_val.isnull().sum()"
   ]
  },
  {
   "cell_type": "code",
   "execution_count": 11,
   "id": "d9f777d8",
   "metadata": {},
   "outputs": [
    {
     "data": {
      "text/plain": [
       "id                                0\n",
       "member_id                         0\n",
       "loan_amnt                         0\n",
       "funded_amnt                       0\n",
       "funded_amnt_inv                   0\n",
       "                              ...  \n",
       "tax_liens                        39\n",
       "tot_hi_cred_lim               39717\n",
       "total_bal_ex_mort             39717\n",
       "total_bc_limit                39717\n",
       "total_il_high_credit_limit    39717\n",
       "Length: 111, dtype: int64"
      ]
     },
     "execution_count": 11,
     "metadata": {},
     "output_type": "execute_result"
    }
   ],
   "source": [
    "df_null"
   ]
  },
  {
   "cell_type": "code",
   "execution_count": 12,
   "id": "b4193e30",
   "metadata": {},
   "outputs": [
    {
     "data": {
      "text/plain": [
       "emp_title                      2459\n",
       "emp_length                     1075\n",
       "desc                          12940\n",
       "title                            11\n",
       "mths_since_last_delinq        25682\n",
       "                              ...  \n",
       "tax_liens                        39\n",
       "tot_hi_cred_lim               39717\n",
       "total_bal_ex_mort             39717\n",
       "total_bc_limit                39717\n",
       "total_il_high_credit_limit    39717\n",
       "Length: 68, dtype: int64"
      ]
     },
     "execution_count": 12,
     "metadata": {},
     "output_type": "execute_result"
    }
   ],
   "source": [
    "# Here you see some columns has no null value\n",
    "data_val.isnull().sum().loc[data_val.isnull().sum()>0]"
   ]
  },
  {
   "cell_type": "code",
   "execution_count": 13,
   "id": "82239c8a",
   "metadata": {},
   "outputs": [],
   "source": [
    "#Some Column has null value equal to the number of rows i.e all value is null NaN value\n",
    "main_df=data_val.dropna(axis=1,how='all')\n"
   ]
  },
  {
   "cell_type": "code",
   "execution_count": 14,
   "id": "02f6daf2",
   "metadata": {},
   "outputs": [
    {
     "data": {
      "text/plain": [
       "id                                0\n",
       "member_id                         0\n",
       "loan_amnt                         0\n",
       "funded_amnt                       0\n",
       "funded_amnt_inv                   0\n",
       "term                              0\n",
       "int_rate                          0\n",
       "installment                       0\n",
       "grade                             0\n",
       "sub_grade                         0\n",
       "emp_title                      2459\n",
       "emp_length                     1075\n",
       "home_ownership                    0\n",
       "annual_inc                        0\n",
       "verification_status               0\n",
       "issue_d                           0\n",
       "loan_status                       0\n",
       "pymnt_plan                        0\n",
       "url                               0\n",
       "desc                          12940\n",
       "purpose                           0\n",
       "title                            11\n",
       "zip_code                          0\n",
       "addr_state                        0\n",
       "dti                               0\n",
       "delinq_2yrs                       0\n",
       "earliest_cr_line                  0\n",
       "inq_last_6mths                    0\n",
       "mths_since_last_delinq        25682\n",
       "mths_since_last_record        36931\n",
       "open_acc                          0\n",
       "pub_rec                           0\n",
       "revol_bal                         0\n",
       "revol_util                       50\n",
       "total_acc                         0\n",
       "initial_list_status               0\n",
       "out_prncp                         0\n",
       "out_prncp_inv                     0\n",
       "total_pymnt                       0\n",
       "total_pymnt_inv                   0\n",
       "total_rec_prncp                   0\n",
       "total_rec_int                     0\n",
       "total_rec_late_fee                0\n",
       "recoveries                        0\n",
       "collection_recovery_fee           0\n",
       "last_pymnt_d                     71\n",
       "last_pymnt_amnt                   0\n",
       "next_pymnt_d                  38577\n",
       "last_credit_pull_d                2\n",
       "collections_12_mths_ex_med       56\n",
       "policy_code                       0\n",
       "application_type                  0\n",
       "acc_now_delinq                    0\n",
       "chargeoff_within_12_mths         56\n",
       "delinq_amnt                       0\n",
       "pub_rec_bankruptcies            697\n",
       "tax_liens                        39\n",
       "dtype: int64"
      ]
     },
     "execution_count": 14,
     "metadata": {},
     "output_type": "execute_result"
    }
   ],
   "source": [
    "main_df.isnull().sum()\n",
    "# Found more columns with more the 50% NaN value so eliminating the same"
   ]
  },
  {
   "cell_type": "code",
   "execution_count": null,
   "id": "31089e65",
   "metadata": {},
   "outputs": [],
   "source": []
  },
  {
   "cell_type": "code",
   "execution_count": 15,
   "id": "4c11cb5d",
   "metadata": {},
   "outputs": [
    {
     "name": "stdout",
     "output_type": "stream",
     "text": [
      "Modified Dataframe : \n",
      "<class 'pandas.core.frame.DataFrame'>\n",
      "RangeIndex: 39717 entries, 0 to 39716\n",
      "Data columns (total 54 columns):\n",
      " #   Column                      Non-Null Count  Dtype  \n",
      "---  ------                      --------------  -----  \n",
      " 0   id                          39717 non-null  int64  \n",
      " 1   member_id                   39717 non-null  int64  \n",
      " 2   loan_amnt                   39717 non-null  int64  \n",
      " 3   funded_amnt                 39717 non-null  int64  \n",
      " 4   funded_amnt_inv             39717 non-null  float64\n",
      " 5   term                        39717 non-null  object \n",
      " 6   int_rate                    39717 non-null  object \n",
      " 7   installment                 39717 non-null  float64\n",
      " 8   grade                       39717 non-null  object \n",
      " 9   sub_grade                   39717 non-null  object \n",
      " 10  emp_title                   37258 non-null  object \n",
      " 11  emp_length                  38642 non-null  object \n",
      " 12  home_ownership              39717 non-null  object \n",
      " 13  annual_inc                  39717 non-null  float64\n",
      " 14  verification_status         39717 non-null  object \n",
      " 15  issue_d                     39717 non-null  object \n",
      " 16  loan_status                 39717 non-null  object \n",
      " 17  pymnt_plan                  39717 non-null  object \n",
      " 18  url                         39717 non-null  object \n",
      " 19  desc                        26777 non-null  object \n",
      " 20  purpose                     39717 non-null  object \n",
      " 21  title                       39706 non-null  object \n",
      " 22  zip_code                    39717 non-null  object \n",
      " 23  addr_state                  39717 non-null  object \n",
      " 24  dti                         39717 non-null  float64\n",
      " 25  delinq_2yrs                 39717 non-null  int64  \n",
      " 26  earliest_cr_line            39717 non-null  object \n",
      " 27  inq_last_6mths              39717 non-null  int64  \n",
      " 28  open_acc                    39717 non-null  int64  \n",
      " 29  pub_rec                     39717 non-null  int64  \n",
      " 30  revol_bal                   39717 non-null  int64  \n",
      " 31  revol_util                  39667 non-null  object \n",
      " 32  total_acc                   39717 non-null  int64  \n",
      " 33  initial_list_status         39717 non-null  object \n",
      " 34  out_prncp                   39717 non-null  float64\n",
      " 35  out_prncp_inv               39717 non-null  float64\n",
      " 36  total_pymnt                 39717 non-null  float64\n",
      " 37  total_pymnt_inv             39717 non-null  float64\n",
      " 38  total_rec_prncp             39717 non-null  float64\n",
      " 39  total_rec_int               39717 non-null  float64\n",
      " 40  total_rec_late_fee          39717 non-null  float64\n",
      " 41  recoveries                  39717 non-null  float64\n",
      " 42  collection_recovery_fee     39717 non-null  float64\n",
      " 43  last_pymnt_d                39646 non-null  object \n",
      " 44  last_pymnt_amnt             39717 non-null  float64\n",
      " 45  last_credit_pull_d          39715 non-null  object \n",
      " 46  collections_12_mths_ex_med  39661 non-null  float64\n",
      " 47  policy_code                 39717 non-null  int64  \n",
      " 48  application_type            39717 non-null  object \n",
      " 49  acc_now_delinq              39717 non-null  int64  \n",
      " 50  chargeoff_within_12_mths    39661 non-null  float64\n",
      " 51  delinq_amnt                 39717 non-null  int64  \n",
      " 52  pub_rec_bankruptcies        39020 non-null  float64\n",
      " 53  tax_liens                   39678 non-null  float64\n",
      "dtypes: float64(18), int64(13), object(23)\n",
      "memory usage: 16.4+ MB\n",
      "None\n"
     ]
    }
   ],
   "source": [
    "#remove Column with null value more than 50% \n",
    "perc = 50.0\n",
    "min_count =  int(((100-perc)/100)*data_val.shape[0] + 1)\n",
    "mod_df = data_val.dropna( axis=1, \n",
    "                thresh=min_count)\n",
    "print(\"Modified Dataframe : \")\n",
    "print(mod_df.info())\n"
   ]
  },
  {
   "cell_type": "code",
   "execution_count": 16,
   "id": "a2418bf5",
   "metadata": {},
   "outputs": [
    {
     "data": {
      "text/plain": [
       "tax_liens                         1\n",
       "delinq_amnt                       1\n",
       "chargeoff_within_12_mths          1\n",
       "acc_now_delinq                    1\n",
       "application_type                  1\n",
       "policy_code                       1\n",
       "initial_list_status               1\n",
       "collections_12_mths_ex_med        1\n",
       "pymnt_plan                        1\n",
       "term                              2\n",
       "pub_rec_bankruptcies              3\n",
       "verification_status               3\n",
       "loan_status                       3\n",
       "pub_rec                           5\n",
       "home_ownership                    5\n",
       "grade                             7\n",
       "inq_last_6mths                    9\n",
       "emp_length                       11\n",
       "delinq_2yrs                      11\n",
       "purpose                          14\n",
       "sub_grade                        35\n",
       "open_acc                         40\n",
       "addr_state                       50\n",
       "issue_d                          55\n",
       "total_acc                        82\n",
       "last_pymnt_d                    101\n",
       "last_credit_pull_d              106\n",
       "int_rate                        371\n",
       "earliest_cr_line                526\n",
       "zip_code                        823\n",
       "loan_amnt                       885\n",
       "funded_amnt                    1041\n",
       "revol_util                     1089\n",
       "out_prncp                      1137\n",
       "out_prncp_inv                  1138\n",
       "total_rec_late_fee             1356\n",
       "collection_recovery_fee        2616\n",
       "dti                            2868\n",
       "recoveries                     4040\n",
       "annual_inc                     5318\n",
       "total_rec_prncp                7976\n",
       "funded_amnt_inv                8205\n",
       "installment                   15383\n",
       "title                         19615\n",
       "revol_bal                     21711\n",
       "desc                          26527\n",
       "emp_title                     28820\n",
       "last_pymnt_amnt               34930\n",
       "total_rec_int                 35148\n",
       "total_pymnt_inv               37518\n",
       "total_pymnt                   37850\n",
       "url                           39717\n",
       "member_id                     39717\n",
       "id                            39717\n",
       "dtype: int64"
      ]
     },
     "execution_count": 16,
     "metadata": {},
     "output_type": "execute_result"
    }
   ],
   "source": [
    "# check number of unique values in each column\n",
    "mod_df.nunique().sort_values()"
   ]
  },
  {
   "cell_type": "code",
   "execution_count": 17,
   "id": "7ca9d4ed",
   "metadata": {},
   "outputs": [
    {
     "data": {
      "text/plain": [
       "Fully Paid     32950\n",
       "Charged Off     5627\n",
       "Current         1140\n",
       "Name: loan_status, dtype: int64"
      ]
     },
     "execution_count": 17,
     "metadata": {},
     "output_type": "execute_result"
    }
   ],
   "source": [
    "#get values for each status in 'loan_status' column\n",
    "mod_df['loan_status'].value_counts()"
   ]
  },
  {
   "cell_type": "code",
   "execution_count": 18,
   "id": "b0f09be3",
   "metadata": {},
   "outputs": [
    {
     "data": {
      "text/plain": [
       "Fully Paid     82.961956\n",
       "Charged Off    14.167737\n",
       "Current         2.870307\n",
       "Name: loan_status, dtype: float64"
      ]
     },
     "execution_count": 18,
     "metadata": {},
     "output_type": "execute_result"
    }
   ],
   "source": [
    "#value percentage of each status in 'loan_status'\n",
    "percentage_val = (mod_df.loan_status.value_counts()*100)/len(mod_df)\n",
    "percentage_val"
   ]
  },
  {
   "cell_type": "code",
   "execution_count": 19,
   "id": "0c80dc9a",
   "metadata": {},
   "outputs": [],
   "source": [
    "#remove the status 'Current' \n",
    "#removing Current loan status as this is not required for analysing defaulters.\n",
    "df = mod_df[mod_df['loan_status']!= 'Current']"
   ]
  },
  {
   "cell_type": "code",
   "execution_count": 20,
   "id": "3aae129d",
   "metadata": {},
   "outputs": [
    {
     "data": {
      "text/plain": [
       "(38577, 54)"
      ]
     },
     "execution_count": 20,
     "metadata": {},
     "output_type": "execute_result"
    }
   ],
   "source": [
    "df.shape"
   ]
  },
  {
   "cell_type": "markdown",
   "id": "c20c1b17",
   "metadata": {},
   "source": [
    "Droping few of the irrelavant column as below\n",
    "<ul>\n",
    "<li>'id' and 'member_id' is just an identification number which has no value for analysis.</li>\n",
    "<li>'url' is a link that has no value for analysis.</li>\n",
    "<li>'desc' is the description text which is not useful for analysis.</li>\n",
    "</ul>    "
   ]
  },
  {
   "cell_type": "code",
   "execution_count": 21,
   "id": "1c0acc8b",
   "metadata": {},
   "outputs": [],
   "source": [
    "cols_to_drop = ['member_id', \n",
    "               'id', \n",
    "               'url',\n",
    "               'desc']"
   ]
  },
  {
   "cell_type": "code",
   "execution_count": 22,
   "id": "2ea119a6",
   "metadata": {},
   "outputs": [],
   "source": [
    "\n",
    "df = df.drop(cols_to_drop, axis=1)"
   ]
  },
  {
   "cell_type": "markdown",
   "id": "9e0a3c4d",
   "metadata": {},
   "source": [
    "No Variance column deletion as values are 0:\n",
    "<ul>\n",
    "<li>'pymnt_plan' as the values are n</li>\n",
    "<li>'zip_code' contains 'xx'</li>\n",
    "<li>'pub_rec' as all values are 0</li>\n",
    "<li> 'policy_code' as all the values are 0</li>\n",
    "<li>'funded_amnt' and 'funded_amnt_inv' has values equivalant to 'loan_amnt'.</li>\n",
    "<li>'emp_title'are names which is also identifier that has no value for analysing patterns for defaulters.</li>\n",
    "<li>'acc_now_delinq' and 'delinq_amnt' has all values as 0.</li>\n",
    "<li>'application_type' has all value as 'INDIVIDUAL'</li>\n",
    "\n",
    "<li>'pymnt_plan' has all values as 'n'.</li>\n",
    "\n",
    "<li>'initial_list_status' has all values as 'f'</li>\n",
    "<li>'chargeoff_within_12_mths', 'tax_liens', and 'collections_12_mths_ex_med' has values 0 </li>    \n",
    "</ul> "
   ]
  },
  {
   "cell_type": "code",
   "execution_count": 23,
   "id": "0cd8b86f",
   "metadata": {},
   "outputs": [],
   "source": [
    "cols_to_drop = ['pymnt_plan', \n",
    "               'zip_code', \n",
    "               'pub_rec',\n",
    "               'policy_code',\n",
    "                'emp_title',\n",
    "                'acc_now_delinq',\n",
    "                'collections_12_mths_ex_med',\n",
    "                'delinq_amnt',\n",
    "                'application_type',\n",
    "                'pymnt_plan',\n",
    "                'tax_liens',\n",
    "                'chargeoff_within_12_mths',\n",
    "                'initial_list_status']"
   ]
  },
  {
   "cell_type": "code",
   "execution_count": 24,
   "id": "6555d3da",
   "metadata": {},
   "outputs": [],
   "source": [
    "df = df.drop(cols_to_drop, axis=1)"
   ]
  },
  {
   "cell_type": "code",
   "execution_count": 25,
   "id": "de89527e",
   "metadata": {},
   "outputs": [
    {
     "data": {
      "text/plain": [
       "(38577, 38)"
      ]
     },
     "execution_count": 25,
     "metadata": {},
     "output_type": "execute_result"
    }
   ],
   "source": [
    "df.shape"
   ]
  },
  {
   "cell_type": "code",
   "execution_count": 26,
   "id": "02738a8d",
   "metadata": {},
   "outputs": [
    {
     "data": {
      "text/plain": [
       "emp_length              1033\n",
       "title                     11\n",
       "revol_util                50\n",
       "last_pymnt_d              71\n",
       "last_credit_pull_d         2\n",
       "pub_rec_bankruptcies     697\n",
       "dtype: int64"
      ]
     },
     "execution_count": 26,
     "metadata": {},
     "output_type": "execute_result"
    }
   ],
   "source": [
    "#check Null value after removing few columns\n",
    "df.isnull().sum().loc[df.isnull().sum()>0]"
   ]
  },
  {
   "cell_type": "code",
   "execution_count": 27,
   "id": "836d3aba",
   "metadata": {},
   "outputs": [],
   "source": [
    "#Data cleaning\n",
    "#Remove % for 'revol_util' and 'int_rate', for calculation\n",
    "df['int_rate'] = df['int_rate'].str.rstrip('%')\n",
    "df['revol_util'] = df['revol_util'].str.rstrip('%')"
   ]
  },
  {
   "cell_type": "code",
   "execution_count": 28,
   "id": "9189dc1b",
   "metadata": {},
   "outputs": [],
   "source": [
    "#Remove months from 'term' and covert it into int type\n",
    "df['term'] = df['term'].str.replace(r' months', '').astype(nm.int64)\n"
   ]
  },
  {
   "cell_type": "code",
   "execution_count": 29,
   "id": "ff2d89ce",
   "metadata": {},
   "outputs": [],
   "source": [
    "# Removing 'Years' and extracting only numbers from emp_length\n",
    "df['emp_length'][df['emp_length'] == '< 1 year'] = '0.5'\n",
    "df['emp_length']=df.emp_length.str.extract('(\\d+\\.\\d+|\\d+)').astype(nm.float64)"
   ]
  },
  {
   "cell_type": "code",
   "execution_count": 30,
   "id": "b03aa977",
   "metadata": {},
   "outputs": [
    {
     "data": {
      "text/html": [
       "<div>\n",
       "<style scoped>\n",
       "    .dataframe tbody tr th:only-of-type {\n",
       "        vertical-align: middle;\n",
       "    }\n",
       "\n",
       "    .dataframe tbody tr th {\n",
       "        vertical-align: top;\n",
       "    }\n",
       "\n",
       "    .dataframe thead th {\n",
       "        text-align: right;\n",
       "    }\n",
       "</style>\n",
       "<table border=\"1\" class=\"dataframe\">\n",
       "  <thead>\n",
       "    <tr style=\"text-align: right;\">\n",
       "      <th></th>\n",
       "      <th>loan_amnt</th>\n",
       "      <th>funded_amnt</th>\n",
       "      <th>funded_amnt_inv</th>\n",
       "      <th>term</th>\n",
       "      <th>int_rate</th>\n",
       "      <th>installment</th>\n",
       "      <th>grade</th>\n",
       "      <th>sub_grade</th>\n",
       "      <th>emp_length</th>\n",
       "      <th>home_ownership</th>\n",
       "      <th>annual_inc</th>\n",
       "      <th>verification_status</th>\n",
       "      <th>issue_d</th>\n",
       "      <th>loan_status</th>\n",
       "      <th>purpose</th>\n",
       "      <th>title</th>\n",
       "      <th>addr_state</th>\n",
       "      <th>dti</th>\n",
       "      <th>delinq_2yrs</th>\n",
       "      <th>earliest_cr_line</th>\n",
       "      <th>inq_last_6mths</th>\n",
       "      <th>open_acc</th>\n",
       "      <th>revol_bal</th>\n",
       "      <th>revol_util</th>\n",
       "      <th>total_acc</th>\n",
       "      <th>out_prncp</th>\n",
       "      <th>out_prncp_inv</th>\n",
       "      <th>total_pymnt</th>\n",
       "      <th>total_pymnt_inv</th>\n",
       "      <th>total_rec_prncp</th>\n",
       "      <th>total_rec_int</th>\n",
       "      <th>total_rec_late_fee</th>\n",
       "      <th>recoveries</th>\n",
       "      <th>collection_recovery_fee</th>\n",
       "      <th>last_pymnt_d</th>\n",
       "      <th>last_pymnt_amnt</th>\n",
       "      <th>last_credit_pull_d</th>\n",
       "      <th>pub_rec_bankruptcies</th>\n",
       "    </tr>\n",
       "  </thead>\n",
       "  <tbody>\n",
       "    <tr>\n",
       "      <th>0</th>\n",
       "      <td>5000</td>\n",
       "      <td>5000</td>\n",
       "      <td>4975.0</td>\n",
       "      <td>36</td>\n",
       "      <td>10.65</td>\n",
       "      <td>162.87</td>\n",
       "      <td>B</td>\n",
       "      <td>B2</td>\n",
       "      <td>10.0</td>\n",
       "      <td>RENT</td>\n",
       "      <td>24000.0</td>\n",
       "      <td>Verified</td>\n",
       "      <td>Dec-11</td>\n",
       "      <td>Fully Paid</td>\n",
       "      <td>credit_card</td>\n",
       "      <td>Computer</td>\n",
       "      <td>AZ</td>\n",
       "      <td>27.65</td>\n",
       "      <td>0</td>\n",
       "      <td>Jan-85</td>\n",
       "      <td>1</td>\n",
       "      <td>3</td>\n",
       "      <td>13648</td>\n",
       "      <td>83.70</td>\n",
       "      <td>9</td>\n",
       "      <td>0.0</td>\n",
       "      <td>0.0</td>\n",
       "      <td>5863.155187</td>\n",
       "      <td>5833.84</td>\n",
       "      <td>5000.00</td>\n",
       "      <td>863.16</td>\n",
       "      <td>0.0</td>\n",
       "      <td>0.00</td>\n",
       "      <td>0.00</td>\n",
       "      <td>Jan-15</td>\n",
       "      <td>171.62</td>\n",
       "      <td>May-16</td>\n",
       "      <td>0.0</td>\n",
       "    </tr>\n",
       "    <tr>\n",
       "      <th>1</th>\n",
       "      <td>2500</td>\n",
       "      <td>2500</td>\n",
       "      <td>2500.0</td>\n",
       "      <td>60</td>\n",
       "      <td>15.27</td>\n",
       "      <td>59.83</td>\n",
       "      <td>C</td>\n",
       "      <td>C4</td>\n",
       "      <td>0.5</td>\n",
       "      <td>RENT</td>\n",
       "      <td>30000.0</td>\n",
       "      <td>Source Verified</td>\n",
       "      <td>Dec-11</td>\n",
       "      <td>Charged Off</td>\n",
       "      <td>car</td>\n",
       "      <td>bike</td>\n",
       "      <td>GA</td>\n",
       "      <td>1.00</td>\n",
       "      <td>0</td>\n",
       "      <td>Apr-99</td>\n",
       "      <td>5</td>\n",
       "      <td>3</td>\n",
       "      <td>1687</td>\n",
       "      <td>9.40</td>\n",
       "      <td>4</td>\n",
       "      <td>0.0</td>\n",
       "      <td>0.0</td>\n",
       "      <td>1008.710000</td>\n",
       "      <td>1008.71</td>\n",
       "      <td>456.46</td>\n",
       "      <td>435.17</td>\n",
       "      <td>0.0</td>\n",
       "      <td>117.08</td>\n",
       "      <td>1.11</td>\n",
       "      <td>Apr-13</td>\n",
       "      <td>119.66</td>\n",
       "      <td>Sep-13</td>\n",
       "      <td>0.0</td>\n",
       "    </tr>\n",
       "    <tr>\n",
       "      <th>...</th>\n",
       "      <td>...</td>\n",
       "      <td>...</td>\n",
       "      <td>...</td>\n",
       "      <td>...</td>\n",
       "      <td>...</td>\n",
       "      <td>...</td>\n",
       "      <td>...</td>\n",
       "      <td>...</td>\n",
       "      <td>...</td>\n",
       "      <td>...</td>\n",
       "      <td>...</td>\n",
       "      <td>...</td>\n",
       "      <td>...</td>\n",
       "      <td>...</td>\n",
       "      <td>...</td>\n",
       "      <td>...</td>\n",
       "      <td>...</td>\n",
       "      <td>...</td>\n",
       "      <td>...</td>\n",
       "      <td>...</td>\n",
       "      <td>...</td>\n",
       "      <td>...</td>\n",
       "      <td>...</td>\n",
       "      <td>...</td>\n",
       "      <td>...</td>\n",
       "      <td>...</td>\n",
       "      <td>...</td>\n",
       "      <td>...</td>\n",
       "      <td>...</td>\n",
       "      <td>...</td>\n",
       "      <td>...</td>\n",
       "      <td>...</td>\n",
       "      <td>...</td>\n",
       "      <td>...</td>\n",
       "      <td>...</td>\n",
       "      <td>...</td>\n",
       "      <td>...</td>\n",
       "      <td>...</td>\n",
       "    </tr>\n",
       "    <tr>\n",
       "      <th>39715</th>\n",
       "      <td>5000</td>\n",
       "      <td>5000</td>\n",
       "      <td>650.0</td>\n",
       "      <td>36</td>\n",
       "      <td>7.43</td>\n",
       "      <td>155.38</td>\n",
       "      <td>A</td>\n",
       "      <td>A2</td>\n",
       "      <td>0.5</td>\n",
       "      <td>MORTGAGE</td>\n",
       "      <td>200000.0</td>\n",
       "      <td>Not Verified</td>\n",
       "      <td>Jul-07</td>\n",
       "      <td>Fully Paid</td>\n",
       "      <td>other</td>\n",
       "      <td>JAL Loan</td>\n",
       "      <td>MD</td>\n",
       "      <td>3.72</td>\n",
       "      <td>0</td>\n",
       "      <td>Nov-88</td>\n",
       "      <td>0</td>\n",
       "      <td>17</td>\n",
       "      <td>85607</td>\n",
       "      <td>0.70</td>\n",
       "      <td>26</td>\n",
       "      <td>0.0</td>\n",
       "      <td>0.0</td>\n",
       "      <td>5174.198551</td>\n",
       "      <td>672.66</td>\n",
       "      <td>5000.00</td>\n",
       "      <td>174.20</td>\n",
       "      <td>0.0</td>\n",
       "      <td>0.00</td>\n",
       "      <td>0.00</td>\n",
       "      <td>Jan-08</td>\n",
       "      <td>0.00</td>\n",
       "      <td>Jun-07</td>\n",
       "      <td>NaN</td>\n",
       "    </tr>\n",
       "    <tr>\n",
       "      <th>39716</th>\n",
       "      <td>7500</td>\n",
       "      <td>7500</td>\n",
       "      <td>800.0</td>\n",
       "      <td>36</td>\n",
       "      <td>13.75</td>\n",
       "      <td>255.43</td>\n",
       "      <td>E</td>\n",
       "      <td>E2</td>\n",
       "      <td>0.5</td>\n",
       "      <td>OWN</td>\n",
       "      <td>22000.0</td>\n",
       "      <td>Not Verified</td>\n",
       "      <td>Jun-07</td>\n",
       "      <td>Fully Paid</td>\n",
       "      <td>debt_consolidation</td>\n",
       "      <td>Consolidation Loan</td>\n",
       "      <td>MA</td>\n",
       "      <td>14.29</td>\n",
       "      <td>1</td>\n",
       "      <td>Oct-03</td>\n",
       "      <td>0</td>\n",
       "      <td>7</td>\n",
       "      <td>4175</td>\n",
       "      <td>51.50</td>\n",
       "      <td>8</td>\n",
       "      <td>0.0</td>\n",
       "      <td>0.0</td>\n",
       "      <td>9195.263334</td>\n",
       "      <td>980.83</td>\n",
       "      <td>7500.00</td>\n",
       "      <td>1695.26</td>\n",
       "      <td>0.0</td>\n",
       "      <td>0.00</td>\n",
       "      <td>0.00</td>\n",
       "      <td>Jun-10</td>\n",
       "      <td>256.59</td>\n",
       "      <td>Jun-10</td>\n",
       "      <td>NaN</td>\n",
       "    </tr>\n",
       "  </tbody>\n",
       "</table>\n",
       "<p>38577 rows × 38 columns</p>\n",
       "</div>"
      ],
      "text/plain": [
       "       loan_amnt  funded_amnt  funded_amnt_inv  term int_rate  installment  \\\n",
       "0           5000         5000           4975.0    36    10.65       162.87   \n",
       "1           2500         2500           2500.0    60    15.27        59.83   \n",
       "...          ...          ...              ...   ...      ...          ...   \n",
       "39715       5000         5000            650.0    36     7.43       155.38   \n",
       "39716       7500         7500            800.0    36    13.75       255.43   \n",
       "\n",
       "      grade sub_grade  emp_length home_ownership  annual_inc  \\\n",
       "0         B        B2        10.0           RENT     24000.0   \n",
       "1         C        C4         0.5           RENT     30000.0   \n",
       "...     ...       ...         ...            ...         ...   \n",
       "39715     A        A2         0.5       MORTGAGE    200000.0   \n",
       "39716     E        E2         0.5            OWN     22000.0   \n",
       "\n",
       "      verification_status issue_d  loan_status             purpose  \\\n",
       "0                Verified  Dec-11   Fully Paid         credit_card   \n",
       "1         Source Verified  Dec-11  Charged Off                 car   \n",
       "...                   ...     ...          ...                 ...   \n",
       "39715        Not Verified  Jul-07   Fully Paid               other   \n",
       "39716        Not Verified  Jun-07   Fully Paid  debt_consolidation   \n",
       "\n",
       "                    title addr_state    dti  delinq_2yrs earliest_cr_line  \\\n",
       "0                Computer         AZ  27.65            0           Jan-85   \n",
       "1                    bike         GA   1.00            0           Apr-99   \n",
       "...                   ...        ...    ...          ...              ...   \n",
       "39715            JAL Loan         MD   3.72            0           Nov-88   \n",
       "39716  Consolidation Loan         MA  14.29            1           Oct-03   \n",
       "\n",
       "       inq_last_6mths  open_acc  revol_bal revol_util  total_acc  out_prncp  \\\n",
       "0                   1         3      13648      83.70          9        0.0   \n",
       "1                   5         3       1687       9.40          4        0.0   \n",
       "...               ...       ...        ...        ...        ...        ...   \n",
       "39715               0        17      85607       0.70         26        0.0   \n",
       "39716               0         7       4175      51.50          8        0.0   \n",
       "\n",
       "       out_prncp_inv  total_pymnt  total_pymnt_inv  total_rec_prncp  \\\n",
       "0                0.0  5863.155187          5833.84          5000.00   \n",
       "1                0.0  1008.710000          1008.71           456.46   \n",
       "...              ...          ...              ...              ...   \n",
       "39715            0.0  5174.198551           672.66          5000.00   \n",
       "39716            0.0  9195.263334           980.83          7500.00   \n",
       "\n",
       "       total_rec_int  total_rec_late_fee  recoveries  collection_recovery_fee  \\\n",
       "0             863.16                 0.0        0.00                     0.00   \n",
       "1             435.17                 0.0      117.08                     1.11   \n",
       "...              ...                 ...         ...                      ...   \n",
       "39715         174.20                 0.0        0.00                     0.00   \n",
       "39716        1695.26                 0.0        0.00                     0.00   \n",
       "\n",
       "      last_pymnt_d  last_pymnt_amnt last_credit_pull_d  pub_rec_bankruptcies  \n",
       "0           Jan-15           171.62             May-16                   0.0  \n",
       "1           Apr-13           119.66             Sep-13                   0.0  \n",
       "...            ...              ...                ...                   ...  \n",
       "39715       Jan-08             0.00             Jun-07                   NaN  \n",
       "39716       Jun-10           256.59             Jun-10                   NaN  \n",
       "\n",
       "[38577 rows x 38 columns]"
      ]
     },
     "metadata": {},
     "output_type": "display_data"
    }
   ],
   "source": [
    "with pd.option_context('display.max_rows', 5, 'display.max_columns', None):\n",
    "    display(df)"
   ]
  },
  {
   "cell_type": "markdown",
   "id": "dcda68d0",
   "metadata": {},
   "source": [
    "Extracting month and year as separate columns for columns:\n",
    "<li> issue_d </li>\n",
    "<li> earliest_cr_line </li>\n",
    "<li> last_pymnt_d </li>\n",
    "<li> last_credit_pull_d </li>"
   ]
  },
  {
   "cell_type": "code",
   "execution_count": 31,
   "id": "3b6609d3",
   "metadata": {},
   "outputs": [],
   "source": [
    "# Converting to datetime formate\n",
    "df['issue_d'] = pd.to_datetime(df['issue_d'], format='%b-%y')\n",
    "df['earliest_cr_line'] = pd.to_datetime(df['earliest_cr_line'], format='%b-%y')\n",
    "df['last_pymnt_d'] = pd.to_datetime(df['last_pymnt_d'], format='%b-%y')\n",
    "df['last_credit_pull_d'] = pd.to_datetime(df['last_credit_pull_d'], format='%b-%y')"
   ]
  },
  {
   "cell_type": "code",
   "execution_count": 32,
   "id": "81bad46f",
   "metadata": {},
   "outputs": [],
   "source": [
    "# separating month and year for date columns\n",
    "df['issue_d_month'] = df['issue_d'].dt.month\n",
    "df['issue_d_year'] = df['issue_d'].dt.year\n",
    "df['earliest_cr_line_month'] = df['earliest_cr_line'].dt.month\n",
    "df['earliest_cr_line_year'] = df['earliest_cr_line'].dt.year\n",
    "df['last_pymnt_d_month'] = df['last_pymnt_d'].dt.month\n",
    "df['last_pymnt_d_year'] = df['last_pymnt_d'].dt.year\n",
    "df['earliest_cr_line_month'] = df['last_credit_pull_d'].dt.month\n",
    "df['earliest_cr_line_year'] = df['last_credit_pull_d'].dt.year"
   ]
  },
  {
   "cell_type": "code",
   "execution_count": 33,
   "id": "baf36343",
   "metadata": {},
   "outputs": [],
   "source": [
    "# dropping original date columns\n",
    "df = df.drop(['issue_d', 'last_credit_pull_d','last_pymnt_d','earliest_cr_line'], axis = 1)"
   ]
  },
  {
   "cell_type": "code",
   "execution_count": 34,
   "id": "aff47adc",
   "metadata": {},
   "outputs": [
    {
     "name": "stdout",
     "output_type": "stream",
     "text": [
      "<class 'pandas.core.frame.DataFrame'>\n",
      "Int64Index: 38577 entries, 0 to 39716\n",
      "Data columns (total 40 columns):\n",
      " #   Column                   Non-Null Count  Dtype  \n",
      "---  ------                   --------------  -----  \n",
      " 0   loan_amnt                38577 non-null  int64  \n",
      " 1   funded_amnt              38577 non-null  int64  \n",
      " 2   funded_amnt_inv          38577 non-null  float64\n",
      " 3   term                     38577 non-null  int64  \n",
      " 4   int_rate                 38577 non-null  object \n",
      " 5   installment              38577 non-null  float64\n",
      " 6   grade                    38577 non-null  object \n",
      " 7   sub_grade                38577 non-null  object \n",
      " 8   emp_length               37544 non-null  float64\n",
      " 9   home_ownership           38577 non-null  object \n",
      " 10  annual_inc               38577 non-null  float64\n",
      " 11  verification_status      38577 non-null  object \n",
      " 12  loan_status              38577 non-null  object \n",
      " 13  purpose                  38577 non-null  object \n",
      " 14  title                    38566 non-null  object \n",
      " 15  addr_state               38577 non-null  object \n",
      " 16  dti                      38577 non-null  float64\n",
      " 17  delinq_2yrs              38577 non-null  int64  \n",
      " 18  inq_last_6mths           38577 non-null  int64  \n",
      " 19  open_acc                 38577 non-null  int64  \n",
      " 20  revol_bal                38577 non-null  int64  \n",
      " 21  revol_util               38527 non-null  object \n",
      " 22  total_acc                38577 non-null  int64  \n",
      " 23  out_prncp                38577 non-null  float64\n",
      " 24  out_prncp_inv            38577 non-null  float64\n",
      " 25  total_pymnt              38577 non-null  float64\n",
      " 26  total_pymnt_inv          38577 non-null  float64\n",
      " 27  total_rec_prncp          38577 non-null  float64\n",
      " 28  total_rec_int            38577 non-null  float64\n",
      " 29  total_rec_late_fee       38577 non-null  float64\n",
      " 30  recoveries               38577 non-null  float64\n",
      " 31  collection_recovery_fee  38577 non-null  float64\n",
      " 32  last_pymnt_amnt          38577 non-null  float64\n",
      " 33  pub_rec_bankruptcies     37880 non-null  float64\n",
      " 34  issue_d_month            38577 non-null  int64  \n",
      " 35  issue_d_year             38577 non-null  int64  \n",
      " 36  earliest_cr_line_month   38575 non-null  float64\n",
      " 37  earliest_cr_line_year    38575 non-null  float64\n",
      " 38  last_pymnt_d_month       38506 non-null  float64\n",
      " 39  last_pymnt_d_year        38506 non-null  float64\n",
      "dtypes: float64(20), int64(10), object(10)\n",
      "memory usage: 12.1+ MB\n"
     ]
    }
   ],
   "source": [
    "df.info()\n"
   ]
  },
  {
   "cell_type": "markdown",
   "id": "17f30467",
   "metadata": {},
   "source": [
    "### Exploratory Data Analysis(EDA): \n",
    "#### Descriptive statistics:\n",
    "Final DataSet description as below\n"
   ]
  },
  {
   "cell_type": "code",
   "execution_count": 35,
   "id": "87e9b86c",
   "metadata": {},
   "outputs": [
    {
     "data": {
      "text/html": [
       "<div>\n",
       "<style scoped>\n",
       "    .dataframe tbody tr th:only-of-type {\n",
       "        vertical-align: middle;\n",
       "    }\n",
       "\n",
       "    .dataframe tbody tr th {\n",
       "        vertical-align: top;\n",
       "    }\n",
       "\n",
       "    .dataframe thead th {\n",
       "        text-align: right;\n",
       "    }\n",
       "</style>\n",
       "<table border=\"1\" class=\"dataframe\">\n",
       "  <thead>\n",
       "    <tr style=\"text-align: right;\">\n",
       "      <th></th>\n",
       "      <th>loan_amnt</th>\n",
       "      <th>funded_amnt</th>\n",
       "      <th>funded_amnt_inv</th>\n",
       "      <th>term</th>\n",
       "      <th>installment</th>\n",
       "      <th>emp_length</th>\n",
       "      <th>annual_inc</th>\n",
       "      <th>dti</th>\n",
       "      <th>delinq_2yrs</th>\n",
       "      <th>inq_last_6mths</th>\n",
       "      <th>...</th>\n",
       "      <th>recoveries</th>\n",
       "      <th>collection_recovery_fee</th>\n",
       "      <th>last_pymnt_amnt</th>\n",
       "      <th>pub_rec_bankruptcies</th>\n",
       "      <th>issue_d_month</th>\n",
       "      <th>issue_d_year</th>\n",
       "      <th>earliest_cr_line_month</th>\n",
       "      <th>earliest_cr_line_year</th>\n",
       "      <th>last_pymnt_d_month</th>\n",
       "      <th>last_pymnt_d_year</th>\n",
       "    </tr>\n",
       "  </thead>\n",
       "  <tbody>\n",
       "    <tr>\n",
       "      <th>count</th>\n",
       "      <td>38577.000000</td>\n",
       "      <td>38577.000000</td>\n",
       "      <td>38577.000000</td>\n",
       "      <td>38577.000000</td>\n",
       "      <td>38577.000000</td>\n",
       "      <td>37544.000000</td>\n",
       "      <td>3.857700e+04</td>\n",
       "      <td>38577.000000</td>\n",
       "      <td>38577.000000</td>\n",
       "      <td>38577.000000</td>\n",
       "      <td>...</td>\n",
       "      <td>38577.000000</td>\n",
       "      <td>38577.000000</td>\n",
       "      <td>38577.000000</td>\n",
       "      <td>37880.000000</td>\n",
       "      <td>38577.000000</td>\n",
       "      <td>38577.000000</td>\n",
       "      <td>38575.000000</td>\n",
       "      <td>38575.000000</td>\n",
       "      <td>38506.000000</td>\n",
       "      <td>38506.000000</td>\n",
       "    </tr>\n",
       "    <tr>\n",
       "      <th>mean</th>\n",
       "      <td>11047.025430</td>\n",
       "      <td>10784.058506</td>\n",
       "      <td>10222.481123</td>\n",
       "      <td>41.898437</td>\n",
       "      <td>322.466318</td>\n",
       "      <td>5.001012</td>\n",
       "      <td>6.877797e+04</td>\n",
       "      <td>13.272727</td>\n",
       "      <td>0.146668</td>\n",
       "      <td>0.871737</td>\n",
       "      <td>...</td>\n",
       "      <td>98.035545</td>\n",
       "      <td>12.772728</td>\n",
       "      <td>2746.243218</td>\n",
       "      <td>0.043479</td>\n",
       "      <td>7.114757</td>\n",
       "      <td>2010.309070</td>\n",
       "      <td>5.847207</td>\n",
       "      <td>2014.234582</td>\n",
       "      <td>6.488184</td>\n",
       "      <td>2012.726848</td>\n",
       "    </tr>\n",
       "    <tr>\n",
       "      <th>std</th>\n",
       "      <td>7348.441646</td>\n",
       "      <td>7090.306027</td>\n",
       "      <td>7022.720644</td>\n",
       "      <td>10.333136</td>\n",
       "      <td>208.639215</td>\n",
       "      <td>3.476486</td>\n",
       "      <td>6.421868e+04</td>\n",
       "      <td>6.673044</td>\n",
       "      <td>0.492271</td>\n",
       "      <td>1.071546</td>\n",
       "      <td>...</td>\n",
       "      <td>698.650182</td>\n",
       "      <td>150.836853</td>\n",
       "      <td>4494.648131</td>\n",
       "      <td>0.204583</td>\n",
       "      <td>3.408523</td>\n",
       "      <td>0.882658</td>\n",
       "      <td>3.065789</td>\n",
       "      <td>1.793164</td>\n",
       "      <td>3.469926</td>\n",
       "      <td>1.460602</td>\n",
       "    </tr>\n",
       "    <tr>\n",
       "      <th>min</th>\n",
       "      <td>500.000000</td>\n",
       "      <td>500.000000</td>\n",
       "      <td>0.000000</td>\n",
       "      <td>36.000000</td>\n",
       "      <td>15.690000</td>\n",
       "      <td>0.500000</td>\n",
       "      <td>4.000000e+03</td>\n",
       "      <td>0.000000</td>\n",
       "      <td>0.000000</td>\n",
       "      <td>0.000000</td>\n",
       "      <td>...</td>\n",
       "      <td>0.000000</td>\n",
       "      <td>0.000000</td>\n",
       "      <td>0.000000</td>\n",
       "      <td>0.000000</td>\n",
       "      <td>1.000000</td>\n",
       "      <td>2007.000000</td>\n",
       "      <td>1.000000</td>\n",
       "      <td>2007.000000</td>\n",
       "      <td>1.000000</td>\n",
       "      <td>2008.000000</td>\n",
       "    </tr>\n",
       "    <tr>\n",
       "      <th>25%</th>\n",
       "      <td>5300.000000</td>\n",
       "      <td>5200.000000</td>\n",
       "      <td>5000.000000</td>\n",
       "      <td>36.000000</td>\n",
       "      <td>165.740000</td>\n",
       "      <td>2.000000</td>\n",
       "      <td>4.000000e+04</td>\n",
       "      <td>8.130000</td>\n",
       "      <td>0.000000</td>\n",
       "      <td>0.000000</td>\n",
       "      <td>...</td>\n",
       "      <td>0.000000</td>\n",
       "      <td>0.000000</td>\n",
       "      <td>217.420000</td>\n",
       "      <td>0.000000</td>\n",
       "      <td>4.000000</td>\n",
       "      <td>2010.000000</td>\n",
       "      <td>4.000000</td>\n",
       "      <td>2013.000000</td>\n",
       "      <td>3.000000</td>\n",
       "      <td>2012.000000</td>\n",
       "    </tr>\n",
       "    <tr>\n",
       "      <th>50%</th>\n",
       "      <td>9600.000000</td>\n",
       "      <td>9550.000000</td>\n",
       "      <td>8733.440000</td>\n",
       "      <td>36.000000</td>\n",
       "      <td>277.860000</td>\n",
       "      <td>4.000000</td>\n",
       "      <td>5.886800e+04</td>\n",
       "      <td>13.370000</td>\n",
       "      <td>0.000000</td>\n",
       "      <td>1.000000</td>\n",
       "      <td>...</td>\n",
       "      <td>0.000000</td>\n",
       "      <td>0.000000</td>\n",
       "      <td>568.260000</td>\n",
       "      <td>0.000000</td>\n",
       "      <td>7.000000</td>\n",
       "      <td>2011.000000</td>\n",
       "      <td>5.000000</td>\n",
       "      <td>2015.000000</td>\n",
       "      <td>6.000000</td>\n",
       "      <td>2013.000000</td>\n",
       "    </tr>\n",
       "    <tr>\n",
       "      <th>75%</th>\n",
       "      <td>15000.000000</td>\n",
       "      <td>15000.000000</td>\n",
       "      <td>14000.000000</td>\n",
       "      <td>36.000000</td>\n",
       "      <td>425.550000</td>\n",
       "      <td>9.000000</td>\n",
       "      <td>8.200000e+04</td>\n",
       "      <td>18.560000</td>\n",
       "      <td>0.000000</td>\n",
       "      <td>1.000000</td>\n",
       "      <td>...</td>\n",
       "      <td>0.000000</td>\n",
       "      <td>0.000000</td>\n",
       "      <td>3447.250000</td>\n",
       "      <td>0.000000</td>\n",
       "      <td>10.000000</td>\n",
       "      <td>2011.000000</td>\n",
       "      <td>8.000000</td>\n",
       "      <td>2016.000000</td>\n",
       "      <td>10.000000</td>\n",
       "      <td>2014.000000</td>\n",
       "    </tr>\n",
       "    <tr>\n",
       "      <th>max</th>\n",
       "      <td>35000.000000</td>\n",
       "      <td>35000.000000</td>\n",
       "      <td>35000.000000</td>\n",
       "      <td>60.000000</td>\n",
       "      <td>1305.190000</td>\n",
       "      <td>10.000000</td>\n",
       "      <td>6.000000e+06</td>\n",
       "      <td>29.990000</td>\n",
       "      <td>11.000000</td>\n",
       "      <td>8.000000</td>\n",
       "      <td>...</td>\n",
       "      <td>29623.350000</td>\n",
       "      <td>7002.190000</td>\n",
       "      <td>36115.200000</td>\n",
       "      <td>2.000000</td>\n",
       "      <td>12.000000</td>\n",
       "      <td>2011.000000</td>\n",
       "      <td>12.000000</td>\n",
       "      <td>2016.000000</td>\n",
       "      <td>12.000000</td>\n",
       "      <td>2016.000000</td>\n",
       "    </tr>\n",
       "  </tbody>\n",
       "</table>\n",
       "<p>8 rows × 30 columns</p>\n",
       "</div>"
      ],
      "text/plain": [
       "          loan_amnt   funded_amnt  funded_amnt_inv          term  \\\n",
       "count  38577.000000  38577.000000     38577.000000  38577.000000   \n",
       "mean   11047.025430  10784.058506     10222.481123     41.898437   \n",
       "std     7348.441646   7090.306027      7022.720644     10.333136   \n",
       "min      500.000000    500.000000         0.000000     36.000000   \n",
       "25%     5300.000000   5200.000000      5000.000000     36.000000   \n",
       "50%     9600.000000   9550.000000      8733.440000     36.000000   \n",
       "75%    15000.000000  15000.000000     14000.000000     36.000000   \n",
       "max    35000.000000  35000.000000     35000.000000     60.000000   \n",
       "\n",
       "        installment    emp_length    annual_inc           dti   delinq_2yrs  \\\n",
       "count  38577.000000  37544.000000  3.857700e+04  38577.000000  38577.000000   \n",
       "mean     322.466318      5.001012  6.877797e+04     13.272727      0.146668   \n",
       "std      208.639215      3.476486  6.421868e+04      6.673044      0.492271   \n",
       "min       15.690000      0.500000  4.000000e+03      0.000000      0.000000   \n",
       "25%      165.740000      2.000000  4.000000e+04      8.130000      0.000000   \n",
       "50%      277.860000      4.000000  5.886800e+04     13.370000      0.000000   \n",
       "75%      425.550000      9.000000  8.200000e+04     18.560000      0.000000   \n",
       "max     1305.190000     10.000000  6.000000e+06     29.990000     11.000000   \n",
       "\n",
       "       inq_last_6mths  ...    recoveries  collection_recovery_fee  \\\n",
       "count    38577.000000  ...  38577.000000             38577.000000   \n",
       "mean         0.871737  ...     98.035545                12.772728   \n",
       "std          1.071546  ...    698.650182               150.836853   \n",
       "min          0.000000  ...      0.000000                 0.000000   \n",
       "25%          0.000000  ...      0.000000                 0.000000   \n",
       "50%          1.000000  ...      0.000000                 0.000000   \n",
       "75%          1.000000  ...      0.000000                 0.000000   \n",
       "max          8.000000  ...  29623.350000              7002.190000   \n",
       "\n",
       "       last_pymnt_amnt  pub_rec_bankruptcies  issue_d_month  issue_d_year  \\\n",
       "count     38577.000000          37880.000000   38577.000000  38577.000000   \n",
       "mean       2746.243218              0.043479       7.114757   2010.309070   \n",
       "std        4494.648131              0.204583       3.408523      0.882658   \n",
       "min           0.000000              0.000000       1.000000   2007.000000   \n",
       "25%         217.420000              0.000000       4.000000   2010.000000   \n",
       "50%         568.260000              0.000000       7.000000   2011.000000   \n",
       "75%        3447.250000              0.000000      10.000000   2011.000000   \n",
       "max       36115.200000              2.000000      12.000000   2011.000000   \n",
       "\n",
       "       earliest_cr_line_month  earliest_cr_line_year  last_pymnt_d_month  \\\n",
       "count            38575.000000           38575.000000        38506.000000   \n",
       "mean                 5.847207            2014.234582            6.488184   \n",
       "std                  3.065789               1.793164            3.469926   \n",
       "min                  1.000000            2007.000000            1.000000   \n",
       "25%                  4.000000            2013.000000            3.000000   \n",
       "50%                  5.000000            2015.000000            6.000000   \n",
       "75%                  8.000000            2016.000000           10.000000   \n",
       "max                 12.000000            2016.000000           12.000000   \n",
       "\n",
       "       last_pymnt_d_year  \n",
       "count       38506.000000  \n",
       "mean         2012.726848  \n",
       "std             1.460602  \n",
       "min          2008.000000  \n",
       "25%          2012.000000  \n",
       "50%          2013.000000  \n",
       "75%          2014.000000  \n",
       "max          2016.000000  \n",
       "\n",
       "[8 rows x 30 columns]"
      ]
     },
     "execution_count": 35,
     "metadata": {},
     "output_type": "execute_result"
    }
   ],
   "source": [
    "# checking descriptive stats of the dataset\n",
    "df.describe()"
   ]
  },
  {
   "cell_type": "markdown",
   "id": "674c8680",
   "metadata": {},
   "source": [
    "#### Univariate Analysis:"
   ]
  },
  {
   "cell_type": "code",
   "execution_count": 36,
   "id": "fcdde086",
   "metadata": {},
   "outputs": [
    {
     "data": {
      "text/plain": [
       "<AxesSubplot:xlabel='loan_status', ylabel='count'>"
      ]
     },
     "execution_count": 36,
     "metadata": {},
     "output_type": "execute_result"
    },
    {
     "data": {
      "image/png": "[encoded data removed]",
      "text/plain": [
       "<Figure size 432x288 with 1 Axes>"
      ]
     },
     "metadata": {
      "needs_background": "light"
     },
     "output_type": "display_data"
    }
   ],
   "source": [
    "# checking Loan_status count\n",
    "sns.countplot(x=df['loan_status'], data=df)"
   ]
  },
  {
   "cell_type": "markdown",
   "id": "da55c330",
   "metadata": {},
   "source": [
    "Statistic for the above bar plot of 'loan_status'"
   ]
  },
  {
   "cell_type": "code",
   "execution_count": 37,
   "id": "cc20b633",
   "metadata": {},
   "outputs": [
    {
     "data": {
      "text/plain": [
       "Fully Paid     32950\n",
       "Charged Off     5627\n",
       "Name: loan_status, dtype: int64"
      ]
     },
     "execution_count": 37,
     "metadata": {},
     "output_type": "execute_result"
    }
   ],
   "source": [
    "df['loan_status'].value_counts()"
   ]
  },
  {
   "cell_type": "markdown",
   "id": "9a0f9f38",
   "metadata": {},
   "source": [
    "Analysising different ascept of the loan 'loan_amt' , 'rate_of_interest', 'term' --> furture to plot "
   ]
  },
  {
   "cell_type": "code",
   "execution_count": 38,
   "id": "9696e66a",
   "metadata": {},
   "outputs": [
    {
     "data": {
      "text/plain": [
       "10000    2809\n",
       "12000    2248\n",
       "5000     2028\n",
       "6000     1886\n",
       "15000    1838\n",
       "         ... \n",
       "18325       1\n",
       "9650        1\n",
       "20450       1\n",
       "15425       1\n",
       "22550       1\n",
       "Name: loan_amnt, Length: 870, dtype: int64"
      ]
     },
     "execution_count": 38,
     "metadata": {},
     "output_type": "execute_result"
    }
   ],
   "source": [
    "df['loan_amnt'].value_counts()"
   ]
  },
  {
   "cell_type": "code",
   "execution_count": 39,
   "id": "f79351a8",
   "metadata": {},
   "outputs": [
    {
     "data": {
      "text/plain": [
       "36    29096\n",
       "60     9481\n",
       "Name: term, dtype: int64"
      ]
     },
     "execution_count": 39,
     "metadata": {},
     "output_type": "execute_result"
    }
   ],
   "source": [
    "df['term'].value_counts()"
   ]
  },
  {
   "cell_type": "code",
   "execution_count": 40,
   "id": "a30ba919",
   "metadata": {},
   "outputs": [
    {
     "data": {
      "text/plain": [
       "10.99    913\n",
       "11.49    790\n",
       "7.51     787\n",
       "13.49    749\n",
       "7.88     725\n",
       "        ... \n",
       "16.96      1\n",
       "18.36      1\n",
       "16.15      1\n",
       "16.01      1\n",
       "16.20      1\n",
       "Name: int_rate, Length: 370, dtype: int64"
      ]
     },
     "execution_count": 40,
     "metadata": {},
     "output_type": "execute_result"
    }
   ],
   "source": [
    "df['int_rate'].value_counts()"
   ]
  },
  {
   "cell_type": "code",
   "execution_count": 41,
   "id": "f59334a5",
   "metadata": {},
   "outputs": [
    {
     "data": {
      "text/plain": [
       "count     38577\n",
       "unique      370\n",
       "top       10.99\n",
       "freq        913\n",
       "Name: int_rate, dtype: object"
      ]
     },
     "execution_count": 41,
     "metadata": {},
     "output_type": "execute_result"
    }
   ],
   "source": [
    "df['int_rate'].describe()"
   ]
  },
  {
   "cell_type": "markdown",
   "id": "da044db5",
   "metadata": {},
   "source": [
    "Lets plot the 'init_rate' to see th spread of load over the interest rate"
   ]
  },
  {
   "cell_type": "code",
   "execution_count": 42,
   "id": "b7bdfe3a",
   "metadata": {},
   "outputs": [
    {
     "data": {
      "text/plain": [
       "count    38577.000000\n",
       "mean        11.932219\n",
       "std          3.691327\n",
       "min          5.420000\n",
       "25%          8.940000\n",
       "50%         11.710000\n",
       "75%         14.380000\n",
       "max         24.400000\n",
       "Name: int_rate, dtype: float64"
      ]
     },
     "execution_count": 42,
     "metadata": {},
     "output_type": "execute_result"
    }
   ],
   "source": [
    "# covert the int_rate to numeric value we have already removed the %\n",
    "df['int_rate'] = pd.to_numeric(df['int_rate'])\n",
    "df['int_rate'].describe()"
   ]
  },
  {
   "cell_type": "code",
   "execution_count": 43,
   "id": "48c188ff",
   "metadata": {},
   "outputs": [
    {
     "data": {
      "text/plain": [
       "<AxesSubplot:>"
      ]
     },
     "execution_count": 43,
     "metadata": {},
     "output_type": "execute_result"
    },
    {
     "data": {
      "image/png": "[encoded data removed]",
      "text/plain": [
       "<Figure size 432x288 with 1 Axes>"
      ]
     },
     "metadata": {
      "needs_background": "light"
     },
     "output_type": "display_data"
    }
   ],
   "source": [
    "#plot the values\n",
    "df['int_rate'].plot.box()"
   ]
  },
  {
   "cell_type": "markdown",
   "id": "7488a65d",
   "metadata": {},
   "source": [
    "we can see some outlier values in int_rate column which needs to analysed "
   ]
  },
  {
   "cell_type": "markdown",
   "id": "578aff25",
   "metadata": {},
   "source": [
    "Other Column analysis\n"
   ]
  },
  {
   "cell_type": "code",
   "execution_count": 44,
   "id": "71a2258f",
   "metadata": {},
   "outputs": [
    {
     "data": {
      "text/plain": [
       "B    11675\n",
       "A    10045\n",
       "C     7834\n",
       "D     5085\n",
       "E     2663\n",
       "F      976\n",
       "G      299\n",
       "Name: grade, dtype: int64"
      ]
     },
     "execution_count": 44,
     "metadata": {},
     "output_type": "execute_result"
    }
   ],
   "source": [
    "#grade \n",
    "df['grade'].value_counts()"
   ]
  },
  {
   "cell_type": "code",
   "execution_count": 45,
   "id": "abd72991",
   "metadata": {},
   "outputs": [
    {
     "data": {
      "text/plain": [
       "A4    2873\n",
       "B3    2825\n",
       "A5    2715\n",
       "B5    2615\n",
       "B4    2437\n",
       "C1    2055\n",
       "B2    2001\n",
       "C2    1931\n",
       "A3    1810\n",
       "B1    1797\n",
       "A2    1508\n",
       "C3    1488\n",
       "D2    1286\n",
       "C4    1206\n",
       "C5    1154\n",
       "A1    1139\n",
       "D3    1116\n",
       "D1     931\n",
       "D4     918\n",
       "D5     834\n",
       "E1     722\n",
       "E2     614\n",
       "E3     516\n",
       "E4     424\n",
       "E5     387\n",
       "F1     305\n",
       "F2     233\n",
       "F3     174\n",
       "F4     151\n",
       "F5     113\n",
       "G1      94\n",
       "G2      77\n",
       "G4      54\n",
       "G3      45\n",
       "G5      29\n",
       "Name: sub_grade, dtype: int64"
      ]
     },
     "execution_count": 45,
     "metadata": {},
     "output_type": "execute_result"
    }
   ],
   "source": [
    "#sub_grade\n",
    "df['sub_grade'].value_counts()"
   ]
  },
  {
   "cell_type": "code",
   "execution_count": 46,
   "id": "2e35faea",
   "metadata": {},
   "outputs": [
    {
     "data": {
      "text/plain": [
       "array([10. ,  0.5,  3. ,  8. ,  9. ,  4. ,  5. ,  1. ,  6. ,  2. ,  7. ,\n",
       "        nan])"
      ]
     },
     "execution_count": 46,
     "metadata": {},
     "output_type": "execute_result"
    }
   ],
   "source": [
    "#emp_length unique\n",
    "df['emp_length'].unique()"
   ]
  },
  {
   "cell_type": "code",
   "execution_count": 47,
   "id": "fa04dda0",
   "metadata": {},
   "outputs": [
    {
     "data": {
      "text/plain": [
       "RENT        18480\n",
       "MORTGAGE    17021\n",
       "OWN          2975\n",
       "OTHER          98\n",
       "NONE            3\n",
       "Name: home_ownership, dtype: int64"
      ]
     },
     "execution_count": 47,
     "metadata": {},
     "output_type": "execute_result"
    }
   ],
   "source": [
    "#home_owner\n",
    "df['home_ownership'].value_counts()"
   ]
  },
  {
   "cell_type": "code",
   "execution_count": 48,
   "id": "3a9415b8",
   "metadata": {},
   "outputs": [
    {
     "data": {
      "text/plain": [
       "Not Verified       16694\n",
       "Verified           12206\n",
       "Source Verified     9677\n",
       "Name: verification_status, dtype: int64"
      ]
     },
     "execution_count": 48,
     "metadata": {},
     "output_type": "execute_result"
    }
   ],
   "source": [
    "#verification_status\n",
    "df['verification_status'].value_counts()"
   ]
  },
  {
   "cell_type": "code",
   "execution_count": 49,
   "id": "757d04de",
   "metadata": {},
   "outputs": [
    {
     "data": {
      "text/plain": [
       "debt_consolidation    18055\n",
       "credit_card            5027\n",
       "other                  3865\n",
       "home_improvement       2875\n",
       "major_purchase         2150\n",
       "small_business         1754\n",
       "car                    1499\n",
       "wedding                 926\n",
       "medical                 681\n",
       "moving                  576\n",
       "vacation                375\n",
       "house                   367\n",
       "educational             325\n",
       "renewable_energy        102\n",
       "Name: purpose, dtype: int64"
      ]
     },
     "execution_count": 49,
     "metadata": {},
     "output_type": "execute_result"
    }
   ],
   "source": [
    "#purpose\n",
    "df['purpose'].value_counts()"
   ]
  },
  {
   "cell_type": "code",
   "execution_count": 50,
   "id": "3666183a",
   "metadata": {},
   "outputs": [
    {
     "data": {
      "text/plain": [
       "Debt Consolidation           2090\n",
       "Debt Consolidation Loan      1620\n",
       "Personal Loan                 641\n",
       "Consolidation                 491\n",
       "debt consolidation            478\n",
       "                             ... \n",
       "Murray Loan                     1\n",
       "Need debt consolidation!        1\n",
       "freedom2                        1\n",
       "DAVE WEDDING                    1\n",
       "JAL Loan                        1\n",
       "Name: title, Length: 19297, dtype: int64"
      ]
     },
     "execution_count": 50,
     "metadata": {},
     "output_type": "execute_result"
    }
   ],
   "source": [
    "#title\n",
    "df['title'].value_counts()"
   ]
  },
  {
   "cell_type": "code",
   "execution_count": 51,
   "id": "08616984",
   "metadata": {},
   "outputs": [
    {
     "name": "stdout",
     "output_type": "stream",
     "text": [
      "<class 'pandas.core.frame.DataFrame'>\n",
      "Int64Index: 38577 entries, 0 to 39716\n",
      "Data columns (total 40 columns):\n",
      " #   Column                   Non-Null Count  Dtype  \n",
      "---  ------                   --------------  -----  \n",
      " 0   loan_amnt                38577 non-null  int64  \n",
      " 1   funded_amnt              38577 non-null  int64  \n",
      " 2   funded_amnt_inv          38577 non-null  float64\n",
      " 3   term                     38577 non-null  int64  \n",
      " 4   int_rate                 38577 non-null  float64\n",
      " 5   installment              38577 non-null  float64\n",
      " 6   grade                    38577 non-null  object \n",
      " 7   sub_grade                38577 non-null  object \n",
      " 8   emp_length               37544 non-null  float64\n",
      " 9   home_ownership           38577 non-null  object \n",
      " 10  annual_inc               38577 non-null  float64\n",
      " 11  verification_status      38577 non-null  object \n",
      " 12  loan_status              38577 non-null  object \n",
      " 13  purpose                  38577 non-null  object \n",
      " 14  title                    38566 non-null  object \n",
      " 15  addr_state               38577 non-null  object \n",
      " 16  dti                      38577 non-null  float64\n",
      " 17  delinq_2yrs              38577 non-null  int64  \n",
      " 18  inq_last_6mths           38577 non-null  int64  \n",
      " 19  open_acc                 38577 non-null  int64  \n",
      " 20  revol_bal                38577 non-null  int64  \n",
      " 21  revol_util               38527 non-null  object \n",
      " 22  total_acc                38577 non-null  int64  \n",
      " 23  out_prncp                38577 non-null  float64\n",
      " 24  out_prncp_inv            38577 non-null  float64\n",
      " 25  total_pymnt              38577 non-null  float64\n",
      " 26  total_pymnt_inv          38577 non-null  float64\n",
      " 27  total_rec_prncp          38577 non-null  float64\n",
      " 28  total_rec_int            38577 non-null  float64\n",
      " 29  total_rec_late_fee       38577 non-null  float64\n",
      " 30  recoveries               38577 non-null  float64\n",
      " 31  collection_recovery_fee  38577 non-null  float64\n",
      " 32  last_pymnt_amnt          38577 non-null  float64\n",
      " 33  pub_rec_bankruptcies     37880 non-null  float64\n",
      " 34  issue_d_month            38577 non-null  int64  \n",
      " 35  issue_d_year             38577 non-null  int64  \n",
      " 36  earliest_cr_line_month   38575 non-null  float64\n",
      " 37  earliest_cr_line_year    38575 non-null  float64\n",
      " 38  last_pymnt_d_month       38506 non-null  float64\n",
      " 39  last_pymnt_d_year        38506 non-null  float64\n",
      "dtypes: float64(21), int64(10), object(9)\n",
      "memory usage: 13.1+ MB\n"
     ]
    }
   ],
   "source": [
    "df.info()"
   ]
  },
  {
   "cell_type": "code",
   "execution_count": 52,
   "id": "f9d61242",
   "metadata": {},
   "outputs": [
    {
     "data": {
      "text/plain": [
       "<AxesSubplot:>"
      ]
     },
     "execution_count": 52,
     "metadata": {},
     "output_type": "execute_result"
    },
    {
     "data": {
      "image/png": "[encoded data removed]",
      "text/plain": [
       "<Figure size 432x288 with 1 Axes>"
      ]
     },
     "metadata": {
      "needs_background": "light"
     },
     "output_type": "display_data"
    }
   ],
   "source": [
    "df['annual_inc'].plot.box()"
   ]
  },
  {
   "cell_type": "markdown",
   "id": "37a511a4",
   "metadata": {},
   "source": [
    "Lots of Outliners\n",
    "We will remove using quantile\n",
    "<ul>\n",
    "   <li> The values after 95 percentile seems to be disconected from the general distribution and also there is huge increase in the value for small quantile variation.</li>\n",
    "<li>So, considering threshold for removing outliers as 0.95</li>\n",
    "</ul>    "
   ]
  },
  {
   "cell_type": "code",
   "execution_count": 53,
   "id": "51c7e788",
   "metadata": {},
   "outputs": [
    {
     "data": {
      "text/plain": [
       "0.50     58868.0\n",
       "0.75     82000.0\n",
       "0.90    115000.0\n",
       "0.95    140004.0\n",
       "0.97    165000.0\n",
       "0.98    187000.0\n",
       "0.99    234144.0\n",
       "Name: annual_inc, dtype: float64"
      ]
     },
     "execution_count": 53,
     "metadata": {},
     "output_type": "execute_result"
    }
   ],
   "source": [
    "quantile_info = df.annual_inc.quantile([0.5, 0.75,0.90, 0.95, 0.97,0.98, 0.99])\n",
    "quantile_info"
   ]
  },
  {
   "cell_type": "code",
   "execution_count": 54,
   "id": "a0af3060",
   "metadata": {},
   "outputs": [],
   "source": [
    "per_95_annual_inc = df['annual_inc'].quantile(0.95)\n",
    "df = df[df.annual_inc <= per_95_annual_inc]"
   ]
  },
  {
   "cell_type": "markdown",
   "id": "93628699",
   "metadata": {},
   "source": [
    "'annual_inc' is Clean now"
   ]
  },
  {
   "cell_type": "code",
   "execution_count": 55,
   "id": "198653cf",
   "metadata": {},
   "outputs": [
    {
     "data": {
      "text/plain": [
       "<AxesSubplot:xlabel='annual_inc'>"
      ]
     },
     "execution_count": 55,
     "metadata": {},
     "output_type": "execute_result"
    },
    {
     "data": {
      "image/png": "[encoded data removed]",
      "text/plain": [
       "<Figure size 432x288 with 1 Axes>"
      ]
     },
     "metadata": {
      "needs_background": "light"
     },
     "output_type": "display_data"
    }
   ],
   "source": [
    "sns.boxplot(df.annual_inc)"
   ]
  },
  {
   "cell_type": "markdown",
   "id": "1a3af862",
   "metadata": {},
   "source": [
    "Cleaning other columns"
   ]
  },
  {
   "cell_type": "code",
   "execution_count": 56,
   "id": "7b0854b4",
   "metadata": {},
   "outputs": [
    {
     "data": {
      "text/plain": [
       "<AxesSubplot:xlabel='dti'>"
      ]
     },
     "execution_count": 56,
     "metadata": {},
     "output_type": "execute_result"
    },
    {
     "data": {
      "image/png": "[encoded data removed]",
      "text/plain": [
       "<Figure size 432x288 with 1 Axes>"
      ]
     },
     "metadata": {
      "needs_background": "light"
     },
     "output_type": "display_data"
    }
   ],
   "source": [
    "sns.boxplot(df.dti)"
   ]
  },
  {
   "cell_type": "markdown",
   "id": "64e21c7a",
   "metadata": {},
   "source": [
    "Cleaning 'loan_amt'"
   ]
  },
  {
   "cell_type": "code",
   "execution_count": 67,
   "id": "18c969c4",
   "metadata": {},
   "outputs": [
    {
     "ename": "SyntaxError",
     "evalue": "expression cannot contain assignment, perhaps you meant \"==\"? (1753489401.py, line 1)",
     "output_type": "error",
     "traceback": [
      "\u001b[0;36m  File \u001b[0;32m\"/var/folders/d8/24f_31md6g17mlnfcfhvcs5h0000gn/T/ipykernel_64163/1753489401.py\"\u001b[0;36m, line \u001b[0;32m1\u001b[0m\n\u001b[0;31m    sns.boxplot(df.quantile_info = df.annual_inc.quantile([0.5, 0.75,0.90, 0.95, 0.97,0.98, 0.99]))\u001b[0m\n\u001b[0m                ^\u001b[0m\n\u001b[0;31mSyntaxError\u001b[0m\u001b[0;31m:\u001b[0m expression cannot contain assignment, perhaps you meant \"==\"?\n"
     ]
    }
   ],
   "source": [
    "sns.boxplot(df.quantile_info = df.annual_inc.quantile([0.5, 0.75,0.90, 0.95, 0.97,0.98, 0.99]))"
   ]
  },
  {
   "cell_type": "markdown",
   "id": "def303c0",
   "metadata": {},
   "source": [
    "The outliner using quantile for --> 0.75 to 1.0"
   ]
  },
  {
   "cell_type": "code",
   "execution_count": 66,
   "id": "c15c9195",
   "metadata": {},
   "outputs": [
    {
     "data": {
      "text/plain": [
       "0.50     9250.0\n",
       "0.75    15000.0\n",
       "0.90    20000.0\n",
       "0.95    25000.0\n",
       "0.97    25475.0\n",
       "0.98    30000.0\n",
       "0.99    35000.0\n",
       "1.00    35000.0\n",
       "Name: loan_amnt, dtype: float64"
      ]
     },
     "execution_count": 66,
     "metadata": {},
     "output_type": "execute_result"
    }
   ],
   "source": [
    "df.loan_amnt.quantile([ 0.5,0.75,0.90, 0.95, 0.97,0.98, 0.99,1.0])"
   ]
  },
  {
   "cell_type": "code",
   "execution_count": null,
   "id": "7852b306",
   "metadata": {},
   "outputs": [],
   "source": [
    "sns.boxplot(df.funded_amnt_inv)"
   ]
  },
  {
   "cell_type": "code",
   "execution_count": 65,
   "id": "846dc316",
   "metadata": {},
   "outputs": [
    {
     "data": {
      "text/plain": [
       "0.50     8375.000000\n",
       "0.75    13623.731415\n",
       "0.90    19750.000000\n",
       "0.95    23941.875589\n",
       "0.97    24975.000000\n",
       "0.98    27950.000000\n",
       "0.99    31954.028576\n",
       "1.00    35000.000000\n",
       "Name: funded_amnt_inv, dtype: float64"
      ]
     },
     "execution_count": 65,
     "metadata": {},
     "output_type": "execute_result"
    }
   ],
   "source": [
    "df.funded_amnt_inv.quantile([ 0.5,0.75,0.90, 0.95, 0.97,0.98, 0.99,1.0])"
   ]
  },
  {
   "cell_type": "markdown",
   "id": "3c5fe15d",
   "metadata": {},
   "source": []
  },
  {
   "cell_type": "code",
   "execution_count": 70,
   "id": "37246631",
   "metadata": {},
   "outputs": [
    {
     "data": {
      "text/plain": [
       "0.50     9000.0\n",
       "0.75    14400.0\n",
       "0.90    20000.0\n",
       "0.95    25000.0\n",
       "0.97    25000.0\n",
       "0.98    28100.0\n",
       "0.99    34000.0\n",
       "1.00    35000.0\n",
       "Name: funded_amnt, dtype: float64"
      ]
     },
     "execution_count": 70,
     "metadata": {},
     "output_type": "execute_result"
    }
   ],
   "source": [
    "df.funded_amnt.quantile([ 0.5,0.75,0.90, 0.95, 0.97,0.98, 0.99,1.0])"
   ]
  },
  {
   "cell_type": "markdown",
   "id": "6a781622",
   "metadata": {},
   "source": [
    "The value distribution for 'funded_amnt_inv', 'funded_amnt' and 'loan_amnt' are similar.\n",
    "Lets plot the Distribution plot to get more clear picture"
   ]
  },
  {
   "cell_type": "code",
   "execution_count": 58,
   "id": "7d699d96",
   "metadata": {},
   "outputs": [
    {
     "data": {
      "text/plain": [
       "Text(0.5, 0, 'Fund Amount Inv')"
      ]
     },
     "execution_count": 58,
     "metadata": {},
     "output_type": "execute_result"
    },
    {
     "data": {
      "image/png": "[encoded data removed]",
      "text/plain": [
       "<Figure size 1080x576 with 3 Axes>"
      ]
     },
     "metadata": {},
     "output_type": "display_data"
    }
   ],
   "source": [
    "plt.figure(figsize=(15,8), facecolor='y')\n",
    "plt.subplot(2, 3, 1)\n",
    "loan_x = sns.distplot(df['loan_amnt'],rug = True)\n",
    "loan_x.set_title('Loan Amount - Distribution Plot',color='w')\n",
    "loan_x.set_xlabel('Loan Amount',color='w')\n",
    "\n",
    "plt.subplot(2, 3, 2)\n",
    "loan_x = sns.distplot(df['funded_amnt'],rug = True)\n",
    "loan_x.set_title('Fund Amount - Distribution Plot',color='w')\n",
    "loan_x.set_xlabel('Fund Amount',color='w')\n",
    "\n",
    "plt.subplot(2, 3, 3)\n",
    "loan_x = sns.distplot(df['funded_amnt_inv'],rug = True)\n",
    "loan_x.set_title('Fund Amount Inv- Distribution Plot',color='w')\n",
    "loan_x.set_xlabel('Fund Amount Inv',color='w')\n"
   ]
  },
  {
   "cell_type": "markdown",
   "id": "723391be",
   "metadata": {},
   "source": [
    "<h4>Observation</h4>\n",
    "1. From pervious boxplot and quantile distribution with the above Distribution plot we can conclude that the values are almost similar\n",
    "2. So from here on we will use 'loan_amnt' for analysis"
   ]
  },
  {
   "cell_type": "markdown",
   "id": "4fe7fae6",
   "metadata": {},
   "source": [
    "<h2> Univariant</h2>"
   ]
  },
  {
   "cell_type": "code",
   "execution_count": 94,
   "id": "fd7048fe",
   "metadata": {},
   "outputs": [
    {
     "data": {
      "image/png": "[encoded data removed]",
      "text/plain": [
       "<Figure size 1080x576 with 1 Axes>"
      ]
     },
     "metadata": {},
     "output_type": "display_data"
    }
   ],
   "source": [
    "#plotting the loan_status with it attribute to analysis other value which influence the defaulter\n",
    "plt.figure(figsize=(15,8), facecolor='lightgrey')\n",
    "purpose_x = sns.countplot(y=\"loan_status\",data= df,palette=\"Set3\")\n",
    "\n",
    "purpose_x.set_ylabel('Loan Status Count',fontsize=14,color = 'b')\n",
    "purpose_x.set_xlabel('Rate',fontsize=14,color = 'b')      \n",
    "plt.show()"
   ]
  },
  {
   "cell_type": "markdown",
   "id": "1ffe6443",
   "metadata": {},
   "source": [
    "<h4> Analysing</h4>\n",
    "will analysis the 'int_rate' and 'annual_inc' -->  with boxplot and Distribution plot\n"
   ]
  },
  {
   "cell_type": "code",
   "execution_count": 97,
   "id": "bbba5bc2",
   "metadata": {},
   "outputs": [
    {
     "data": {
      "text/plain": [
       "Text(0.5, 0, 'Interested Rate')"
      ]
     },
     "execution_count": 97,
     "metadata": {},
     "output_type": "execute_result"
    },
    {
     "data": {
      "image/png": "[encoded data removed]",
      "text/plain": [
       "<Figure size 1080x576 with 2 Axes>"
      ]
     },
     "metadata": {},
     "output_type": "display_data"
    }
   ],
   "source": [
    "plt.figure(figsize=(15,8), facecolor='lightgrey')\n",
    "plt.subplot(2, 3, 1)\n",
    "loan_x = sns.distplot(df['int_rate'],rug = True)\n",
    "loan_x.set_title('Interested Rate - Distribution Plot')\n",
    "loan_x.set_xlabel('Interested Rate',color='w')\n",
    "\n",
    "plt.subplot(2, 3, 2)\n",
    "loan_x = sns.boxplot(df['int_rate'])\n",
    "loan_x.set_title('Interested Rate - Distribution Plot')\n",
    "loan_x.set_xlabel('Interested Rate',color='w')\n",
    "\n",
    "#Here the maximum distribution of 'init_rate' is in the range 10% - 18%"
   ]
  },
  {
   "cell_type": "code",
   "execution_count": 98,
   "id": "bbfe2f95",
   "metadata": {},
   "outputs": [
    {
     "data": {
      "text/plain": [
       "Text(0.5, 0, 'Annual Increment')"
      ]
     },
     "execution_count": 98,
     "metadata": {},
     "output_type": "execute_result"
    },
    {
     "data": {
      "image/png": "[encoded data removed]",
      "text/plain": [
       "<Figure size 1080x576 with 2 Axes>"
      ]
     },
     "metadata": {},
     "output_type": "display_data"
    }
   ],
   "source": [
    "plt.figure(figsize=(15,8), facecolor='lightgrey')\n",
    "plt.subplot(2, 3, 1)\n",
    "loan_x = sns.distplot(df['annual_inc'],rug = True)\n",
    "loan_x.set_title('Annual Increment - Distribution Plot')\n",
    "loan_x.set_xlabel('Annual Increment',color='w')\n",
    "\n",
    "plt.subplot(2, 3, 2)\n",
    "loan_x = sns.boxplot(df['annual_inc'])\n",
    "loan_x.set_title('Annual Increment - Distribution Plot')\n",
    "loan_x.set_xlabel('Annual Increment',color='w')\n",
    "\n",
    "#Here the maximum distribution of 'annual_inc' is in the range 25000 - 750000"
   ]
  },
  {
   "cell_type": "markdown",
   "id": "76767646",
   "metadata": {},
   "source": [
    "<h4> Analysis different parameter influencing the chance of defaulter</h4>\n",
    "Analysis the purpose of the loan taken by the individual like house loan, medical etc"
   ]
  },
  {
   "cell_type": "code",
   "execution_count": 101,
   "id": "ab00b690",
   "metadata": {},
   "outputs": [
    {
     "data": {
      "image/png": "[encoded data removed]",
      "text/plain": [
       "<Figure size 1080x576 with 1 Axes>"
      ]
     },
     "metadata": {},
     "output_type": "display_data"
    }
   ],
   "source": [
    "plt.figure(figsize=(15,8), facecolor='lightgrey')\n",
    "purpose_x = sns.countplot(y=\"purpose\",data= df, hue = 'loan_status', palette=\"Set3\")\n",
    "\n",
    "purpose_x.set_ylabel('Purpose Of Loan',fontsize=14,color = 'b')\n",
    "purpose_x.set_xlabel('Loan Application Count',fontsize=14,color = 'b')      \n",
    "plt.show()"
   ]
  },
  {
   "cell_type": "markdown",
   "id": "e0544ef4",
   "metadata": {},
   "source": [
    "<h4> Observation</h4>\n",
    "Most of the loan is taken for debt_consolidation and we have already deleted 'loan_status' with attribute \"Current\" as it plays no role to analysis the defaulters"
   ]
  },
  {
   "cell_type": "markdown",
   "id": "5e317253",
   "metadata": {},
   "source": [
    "How is 'loan_amt' to 'income' an influence on defaulter"
   ]
  },
  {
   "cell_type": "code",
   "execution_count": 112,
   "id": "3eea46ef",
   "metadata": {},
   "outputs": [
    {
     "data": {
      "image/png": "[encoded data removed]",
      "text/plain": [
       "<Figure size 1080x576 with 1 Axes>"
      ]
     },
     "metadata": {},
     "output_type": "display_data"
    }
   ],
   "source": [
    "plt.figure(figsize=(15,8), facecolor='lightgrey')\n",
    "issueplt = sns.countplot(y=\"issue_d_year\",data= df,hue='loan_status',palette=\"Set3\")\n",
    "\n",
    "issueplt.set_ylabel('Issue year',fontsize=14,color = 'b')\n",
    "issueplt.set_xlabel('Rate',fontsize=14,color = 'b')      \n",
    "plt.show()"
   ]
  },
  {
   "cell_type": "code",
   "execution_count": 111,
   "id": "da0f38eb",
   "metadata": {},
   "outputs": [
    {
     "data": {
      "image/png": "[encoded data removed]",
      "text/plain": [
       "<Figure size 1080x576 with 1 Axes>"
      ]
     },
     "metadata": {},
     "output_type": "display_data"
    }
   ],
   "source": [
    "plt.figure(figsize=(15,8), facecolor='lightgrey')\n",
    "issueplt = sns.countplot(y=\"grade\",data= df,hue='loan_status',palette = \"Set3\")\n",
    "\n",
    "issueplt.set_ylabel('Grade',fontsize=14,color = 'b')\n",
    "issueplt.set_xlabel('Rate',fontsize=14,color = 'b')      \n",
    "plt.show()"
   ]
  },
  {
   "cell_type": "code",
   "execution_count": 110,
   "id": "a7bf72b3",
   "metadata": {},
   "outputs": [
    {
     "data": {
      "image/png": "[encoded data removed]",
      "text/plain": [
       "<Figure size 1080x576 with 1 Axes>"
      ]
     },
     "metadata": {},
     "output_type": "display_data"
    }
   ],
   "source": [
    "plt.figure(figsize=(15,8), facecolor='lightgrey')\n",
    "issueplt = sns.countplot(y=\"sub_grade\",data= df,hue='loan_status',palette=\"Set3\")\n",
    "\n",
    "issueplt.set_ylabel('Sub Grade',fontsize=14,color = 'b')\n",
    "issueplt.set_xlabel('Rate',fontsize=14,color = 'b')      \n",
    "plt.show()"
   ]
  },
  {
   "cell_type": "code",
   "execution_count": 109,
   "id": "736323dc",
   "metadata": {},
   "outputs": [
    {
     "data": {
      "image/png": "[encoded data removed]",
      "text/plain": [
       "<Figure size 1080x576 with 1 Axes>"
      ]
     },
     "metadata": {},
     "output_type": "display_data"
    }
   ],
   "source": [
    "plt.figure(figsize=(15,8), facecolor='lightgrey')\n",
    "issueplt = sns.countplot(y=\"emp_length\",data= df,hue='loan_status',palette=\"Set3\")\n",
    "\n",
    "issueplt.set_ylabel('Employee',fontsize=14,color = 'b')\n",
    "issueplt.set_xlabel('Rate',fontsize=14,color = 'b')      \n",
    "plt.show()"
   ]
  },
  {
   "cell_type": "markdown",
   "id": "10afa2af",
   "metadata": {},
   "source": [
    "Lets Analyse the home_ownership attribute with the loan_status to analysis the value of what type of home_ownership leads to defaulters"
   ]
  },
  {
   "cell_type": "code",
   "execution_count": 108,
   "id": "50329b4f",
   "metadata": {},
   "outputs": [
    {
     "data": {
      "image/png": "[encoded data removed]",
      "text/plain": [
       "<Figure size 1080x576 with 1 Axes>"
      ]
     },
     "metadata": {},
     "output_type": "display_data"
    }
   ],
   "source": [
    "plt.figure(figsize=(15,8), facecolor='lightgrey')\n",
    "issueplt = sns.countplot(y=\"home_ownership\",data= df,hue='loan_status',palette=\"Set3\")\n",
    "\n",
    "issueplt.set_ylabel('Home Ownership Type',fontsize=14,color = 'b')\n",
    "issueplt.set_xlabel('Loan Status',fontsize=14,color = 'b')      \n",
    "plt.show()"
   ]
  },
  {
   "cell_type": "code",
   "execution_count": 113,
   "id": "49731545",
   "metadata": {},
   "outputs": [
    {
     "data": {
      "image/png": "[encoded data removed]",
      "text/plain": [
       "<Figure size 1080x576 with 1 Axes>"
      ]
     },
     "metadata": {},
     "output_type": "display_data"
    }
   ],
   "source": [
    "plt.figure(figsize=(15,8), facecolor='lightgrey')\n",
    "issueplt = sns.countplot(y=\"verification_status\",data= df,hue='loan_status',palette=\"Set3\")\n",
    "\n",
    "issueplt.set_ylabel('Verified Status',fontsize=14,color = 'b')\n",
    "issueplt.set_xlabel('Loan Status',fontsize=14,color = 'b')      \n",
    "plt.show()"
   ]
  },
  {
   "cell_type": "markdown",
   "id": "9180b3b5",
   "metadata": {},
   "source": [
    "The Charged Off value for the Loan-status is marginally same.So could not Analyse much out off it."
   ]
  },
  {
   "cell_type": "markdown",
   "id": "19dc9c0a",
   "metadata": {},
   "source": [
    "We have observed that 2011 is the highest loan raiser, let see for Month."
   ]
  },
  {
   "cell_type": "code",
   "execution_count": 115,
   "id": "8a489b3c",
   "metadata": {},
   "outputs": [
    {
     "data": {
      "image/png": "[encoded data removed]",
      "text/plain": [
       "<Figure size 1080x576 with 1 Axes>"
      ]
     },
     "metadata": {},
     "output_type": "display_data"
    }
   ],
   "source": [
    "plt.figure(figsize=(15,8), facecolor='lightgrey')\n",
    "issueplt = sns.countplot(y=\"issue_d_month\",data= df,hue='loan_status',palette=\"Set3\")\n",
    "\n",
    "issueplt.set_ylabel('Issue month',fontsize=14,color = 'b')\n",
    "issueplt.set_xlabel('Rate',fontsize=14,color = 'b')      \n",
    "plt.show()"
   ]
  },
  {
   "cell_type": "code",
   "execution_count": 121,
   "id": "52d9493a",
   "metadata": {},
   "outputs": [
    {
     "data": {
      "image/png": "[encoded data removed]",
      "text/plain": [
       "<Figure size 1080x576 with 1 Axes>"
      ]
     },
     "metadata": {},
     "output_type": "display_data"
    }
   ],
   "source": [
    "plt.figure(figsize=(15,8), facecolor='lightgrey')\n",
    "df['dtig'] = pd.cut(df['dti'], bins=5,precision =0,labels=['0-6','6-12','12-18','18-24','24-30'])\n",
    "issueplt = sns.countplot(y=\"dtig\",data= df,hue='loan_status',palette=\"Set3\")\n",
    "\n",
    "issueplt.set_ylabel('Monthly debt payments',fontsize=14,color = 'b')\n",
    "issueplt.set_xlabel('Loan Status',fontsize=14,color = 'b')      \n",
    "plt.show()"
   ]
  },
  {
   "cell_type": "code",
   "execution_count": 122,
   "id": "a72f5733",
   "metadata": {},
   "outputs": [
    {
     "data": {
      "image/png": "[encoded data removed]",
      "text/plain": [
       "<Figure size 1080x576 with 1 Axes>"
      ]
     },
     "metadata": {},
     "output_type": "display_data"
    }
   ],
   "source": [
    "plt.figure(figsize=(15,8), facecolor='lightgrey')\n",
    "df['annualincg'] = pd.cut(df['annual_inc'], bins=5,precision =0,labels=['3k-31k','31k-58k','58k-85k','85k-112k','112k-140k'])\n",
    "issueplt = sns.countplot(y=\"dtig\",data= df,hue='loan_status',palette=\"Set3\")\n",
    "\n",
    "issueplt.set_ylabel('Annual Income',fontsize=14,color = 'b')\n",
    "issueplt.set_xlabel('Loan Status',fontsize=14,color = 'b')      \n",
    "plt.show()"
   ]
  },
  {
   "cell_type": "code",
   "execution_count": 123,
   "id": "4147e011",
   "metadata": {},
   "outputs": [
    {
     "data": {
      "image/png": "[encoded data removed]",
      "text/plain": [
       "<Figure size 1080x576 with 1 Axes>"
      ]
     },
     "metadata": {},
     "output_type": "display_data"
    }
   ],
   "source": [
    "plt.figure(figsize=(15,8), facecolor='lightgrey')\n",
    "issueplt = sns.countplot(y=\"term\",data= df,hue='loan_status',palette=\"Set3\")\n",
    "\n",
    "issueplt.set_ylabel('Term',fontsize=14,color = 'b')\n",
    "issueplt.set_xlabel('Loan Status',fontsize=14,color = 'b')      \n",
    "plt.show()"
   ]
  },
  {
   "cell_type": "code",
   "execution_count": null,
   "id": "7e697941",
   "metadata": {},
   "outputs": [],
   "source": []
  },
  {
   "cell_type": "markdown",
   "id": "77af8c5c",
   "metadata": {},
   "source": [
    "<h2> Bivariant Analysis</h2>"
   ]
  },
  {
   "cell_type": "markdown",
   "id": "b545712d",
   "metadata": {},
   "source": [
    "We will  Analyse 2 column value together to get the conclusion on defaulters"
   ]
  },
  {
   "cell_type": "markdown",
   "id": "836a9143",
   "metadata": {},
   "source": [
    "1. Analysing annula income for loan taker to the loan amount ie.'annual_inc' and 'loan_amnt'"
   ]
  },
  {
   "cell_type": "code",
   "execution_count": null,
   "id": "640e01c9",
   "metadata": {},
   "outputs": [],
   "source": [
    "plt.figure(figsize=(10,10), facecolor='lightyellow')\n",
    "sns.barplot(data =df,x='annual_inc', y='purpose', hue ='loan_status',palette=\"deep\")\n",
    "plt.show()"
   ]
  },
  {
   "cell_type": "code",
   "execution_count": null,
   "id": "eb1774cd",
   "metadata": {},
   "outputs": [],
   "source": []
  }
 ],
 "metadata": {
  "kernelspec": {
   "display_name": "Python 3 (ipykernel)",
   "language": "python",
   "name": "python3"
  },
  "language_info": {
   "codemirror_mode": {
    "name": "ipython",
    "version": 3
   },
   "file_extension": ".py",
   "mimetype": "text/x-python",
   "name": "python",
   "nbconvert_exporter": "python",
   "pygments_lexer": "ipython3",
   "version": "3.9.7"
  }
 },
 "nbformat": 4,
 "nbformat_minor": 5
}
