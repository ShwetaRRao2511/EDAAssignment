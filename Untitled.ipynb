{
 "cells": [
  {
   "cell_type": "markdown",
   "id": "993f587a",
   "metadata": {},
   "source": [
    "# <b><u>Lending Club Use-Case</u></b>"
   ]
  },
  {
   "cell_type": "markdown",
   "id": "d26cfc56",
   "metadata": {},
   "source": [
    "## <u> Problem Statement</u>"
   ]
  },
  {
   "cell_type": "markdown",
   "id": "1dadc000",
   "metadata": {},
   "source": [
    "<p><u>Introduction:</u>You work for a consumer finance company which specialises in lending various types of loans to urban customers. When the company receives a loan application, the company has to make a decision for loan approval based on the applicant’s profile.\n",
    "    This company is the largest online loan marketplace, facilitating personal loans, business loans, and financing of medical procedures.\n",
    "    \n",
    "</p>\n"
   ]
  },
  {
   "cell_type": "markdown",
   "id": "239d512a",
   "metadata": {},
   "source": [
    "Lending loans to ‘risky’ applicants is the largest source of financial loss (called credit loss). The credit loss is the amount of money lost by the lender when the borrower refuses to pay or runs away with the money owed. In other words, borrowers who default cause the largest amount of loss to the lenders. In this case, the customers labelled as 'charged-off' are the 'defaulters'.\n",
    "    If one is able to identify these risky loan applicants, then such loans can be reduced thereby cutting down the amount of credit loss. Identification of such applicants using EDA is the aim of this case study."
   ]
  },
  {
   "cell_type": "markdown",
   "id": "07d3ffce",
   "metadata": {},
   "source": [
    "##### Use-Case Presenters:\n",
    "    1. Shweta Rao: Group Facilator\n",
    "    2. Pragadeesh S: Group Memeber"
   ]
  },
  {
   "cell_type": "code",
   "execution_count": 11,
   "id": "1d2e9261",
   "metadata": {},
   "outputs": [],
   "source": [
    "#imports variable\n",
    "import pandas as pd\n",
    "import numpy as nm\n",
    "import matplotlib.pyplot as plt"
   ]
  },
  {
   "cell_type": "code",
   "execution_count": null,
   "id": "bc0b9a2c",
   "metadata": {},
   "outputs": [],
   "source": []
  }
 ],
 "metadata": {
  "kernelspec": {
   "display_name": "Python 3 (ipykernel)",
   "language": "python",
   "name": "python3"
  },
  "language_info": {
   "codemirror_mode": {
    "name": "ipython",
    "version": 3
   },
   "file_extension": ".py",
   "mimetype": "text/x-python",
   "name": "python",
   "nbconvert_exporter": "python",
   "pygments_lexer": "ipython3",
   "version": "3.9.7"
  }
 },
 "nbformat": 4,
 "nbformat_minor": 5
}
